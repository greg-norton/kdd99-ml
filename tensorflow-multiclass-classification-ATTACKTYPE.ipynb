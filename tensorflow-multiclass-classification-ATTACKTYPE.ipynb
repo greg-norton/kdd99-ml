{
 "cells": [
  {
   "cell_type": "code",
   "execution_count": 1,
   "metadata": {
    "scrolled": true
   },
   "outputs": [],
   "source": [
    "import pandas as pd\n",
    "import tensorflow as tf\n",
    "import os\n",
    "import numpy as np\n",
    "from sklearn import metrics\n",
    "from scipy.stats import zscore\n",
    "from tensorflow.keras.utils import get_file\n",
    "\n",
    "from tensorflow.keras.models import Sequential\n",
    "from tensorflow.keras.layers import Dense\n",
    "from tensorflow.keras.wrappers.scikit_learn import KerasClassifier\n",
    "#from tensorflow.keras.utils import np_utils\n",
    "from sklearn.model_selection import cross_val_score\n",
    "from sklearn.model_selection import KFold\n",
    "from sklearn.preprocessing import LabelEncoder\n",
    "from sklearn.pipeline import Pipeline\n",
    "\n",
    "#tf.debugging.set_log_device_placement(True)"
   ]
  },
  {
   "cell_type": "code",
   "execution_count": 2,
   "metadata": {},
   "outputs": [
    {
     "name": "stdout",
     "output_type": "stream",
     "text": [
      "Read 22544 rows.\n"
     ]
    }
   ],
   "source": [
    "try:\n",
    "    #path = get_file('kddcup.data.gz', origin='http://kdd.ics.uci.edu/databases/kddcup99/kddcup.data.gz')\n",
    "    #path = get_file('kddcup.data_10_percent.gz', origin='http://kdd.ics.uci.edu/databases/kddcup99/kddcup.data_10_percent.gz')\n",
    "    path = './nslkdd/KDDTest+.txt'\n",
    "except:\n",
    "    print('Error downloading')\n",
    "    raise\n",
    "    \n",
    "df = pd.read_csv(path, header=None)\n",
    "\n",
    "print(\"Read {} rows.\".format(len(df)))\n",
    "\n",
    "df.dropna(inplace=True,axis=1) # For now, just drop NA's (rows with missing values)\n",
    "\n",
    "\n",
    "df.columns = [\n",
    "    'duration',\n",
    "    'protocol_type',\n",
    "    'service',\n",
    "    'flag',\n",
    "    'src_bytes',\n",
    "    'dst_bytes',\n",
    "    'land',\n",
    "    'wrong_fragment',\n",
    "    'urgent',\n",
    "    'hot',\n",
    "    'num_failed_logins',\n",
    "    'logged_in',\n",
    "    'num_compromised',\n",
    "    'root_shell',\n",
    "    'su_attempted',\n",
    "    'num_root',\n",
    "    'num_file_creations',\n",
    "    'num_shells',\n",
    "    'num_access_files',\n",
    "    'num_outbound_cmds',\n",
    "    'is_host_login',\n",
    "    'is_guest_login',\n",
    "    'count',\n",
    "    'srv_count',\n",
    "    'serror_rate',\n",
    "    'srv_serror_rate',\n",
    "    'rerror_rate',\n",
    "    'srv_rerror_rate',\n",
    "    'same_srv_rate',\n",
    "    'diff_srv_rate',\n",
    "    'srv_diff_host_rate',\n",
    "    'dst_host_count',\n",
    "    'dst_host_srv_count',\n",
    "    'dst_host_same_srv_rate',\n",
    "    'dst_host_diff_srv_rate',\n",
    "    'dst_host_same_src_port_rate',\n",
    "    'dst_host_srv_diff_host_rate',\n",
    "    'dst_host_serror_rate',\n",
    "    'dst_host_srv_serror_rate',\n",
    "    'dst_host_rerror_rate',\n",
    "    'dst_host_srv_rerror_rate',\n",
    "    'outcome',\n",
    "    'difficulty_rating'\n",
    "]"
   ]
  },
  {
   "cell_type": "code",
   "execution_count": 3,
   "metadata": {},
   "outputs": [
    {
     "name": "stdout",
     "output_type": "stream",
     "text": [
      "outcome\n",
      "apache2             737\n",
      "back                359\n",
      "buffer_overflow      20\n",
      "ftp_write             3\n",
      "guess_passwd       1231\n",
      "httptunnel          133\n",
      "imap                  1\n",
      "ipsweep             141\n",
      "land                  7\n",
      "loadmodule            2\n",
      "mailbomb            293\n",
      "mscan               996\n",
      "multihop             18\n",
      "named                17\n",
      "neptune            4657\n",
      "nmap                 73\n",
      "normal             9711\n",
      "perl                  2\n",
      "phf                   2\n",
      "pod                  41\n",
      "portsweep           157\n",
      "processtable        685\n",
      "ps                   15\n",
      "rootkit              13\n",
      "saint               319\n",
      "satan               735\n",
      "sendmail             14\n",
      "smurf               665\n",
      "snmpgetattack       178\n",
      "snmpguess           331\n",
      "sqlattack             2\n",
      "teardrop             12\n",
      "udpstorm              2\n",
      "warezmaster         944\n",
      "worm                  2\n",
      "xlock                 9\n",
      "xsnoop                4\n",
      "xterm                13\n",
      "Name: outcome, dtype: int64\n"
     ]
    }
   ],
   "source": [
    "print(df.groupby('outcome')['outcome'].count())"
   ]
  },
  {
   "cell_type": "code",
   "execution_count": 4,
   "metadata": {},
   "outputs": [
    {
     "name": "stdout",
     "output_type": "stream",
     "text": [
      "22\n",
      "normal    13461\n",
      "dos        5741\n",
      "r2l        2199\n",
      "probe      1106\n",
      "u2r          37\n",
      "Name: outcome, dtype: int64\n"
     ]
    }
   ],
   "source": [
    "DOS_TYPES = ('back','land','neptune','pod','smurf','teardrop')\n",
    "U2R_TYPES = ('buffer_overflow','loadmodule','perl','rootkit')\n",
    "R2L_TYPES = ('ftp_write','guess_passwd','imap','multihop','phf','spy','warezclient','warezmaster')\n",
    "PROBE_TYPES = ('ipsweep','nmap','portsweep','satan')\n",
    "\n",
    "print(len(DOS_TYPES + U2R_TYPES + R2L_TYPES + PROBE_TYPES))\n",
    "\n",
    "for i, row in df.iterrows():\n",
    "    val = 'normal'\n",
    "    old_val = row['outcome'].split('.')[0]\n",
    "    if old_val in DOS_TYPES:\n",
    "        val = 'dos'\n",
    "    elif old_val in U2R_TYPES:\n",
    "        val = 'u2r'\n",
    "    elif old_val in R2L_TYPES:\n",
    "        val = 'r2l'\n",
    "    elif old_val in PROBE_TYPES:\n",
    "        val = 'probe'\n",
    "    df.at[i,'outcome'] = val       \n",
    "        \n",
    "print(df['outcome'].value_counts())"
   ]
  },
  {
   "cell_type": "code",
   "execution_count": 5,
   "metadata": {},
   "outputs": [],
   "source": [
    "# Encode a numeric column as zscores\n",
    "def encode_numeric_zscore(df, name, mean=None, sd=None):\n",
    "    if mean is None:\n",
    "        mean = df[name].mean()\n",
    "\n",
    "    if sd is None:\n",
    "        sd = df[name].std()\n",
    "\n",
    "    df[name] = (df[name] - mean) / sd\n",
    "    \n",
    "# Encode text values to dummy variables(i.e. [1,0,0],[0,1,0],[0,0,1] for red,green,blue)\n",
    "def encode_text_dummy(df, name):\n",
    "    dummies = pd.get_dummies(df[name])\n",
    "    for x in dummies.columns:\n",
    "        dummy_name = f\"{name}-{x}\"\n",
    "        df[dummy_name] = dummies[x]\n",
    "    df.drop(name, axis=1, inplace=True)"
   ]
  },
  {
   "cell_type": "code",
   "execution_count": 6,
   "metadata": {},
   "outputs": [],
   "source": [
    "# Now encode the feature vector\n",
    "\n",
    "encode_numeric_zscore(df, 'duration')\n",
    "encode_text_dummy(df, 'protocol_type')\n",
    "encode_text_dummy(df, 'service')\n",
    "encode_text_dummy(df, 'flag')\n",
    "encode_numeric_zscore(df, 'src_bytes')\n",
    "encode_numeric_zscore(df, 'dst_bytes')\n",
    "encode_text_dummy(df, 'land')\n",
    "encode_numeric_zscore(df, 'wrong_fragment')\n",
    "encode_numeric_zscore(df, 'urgent')\n",
    "encode_numeric_zscore(df, 'hot')\n",
    "encode_numeric_zscore(df, 'num_failed_logins')\n",
    "encode_text_dummy(df, 'logged_in')\n",
    "encode_numeric_zscore(df, 'num_compromised')\n",
    "encode_numeric_zscore(df, 'root_shell')\n",
    "encode_numeric_zscore(df, 'su_attempted')\n",
    "encode_numeric_zscore(df, 'num_root')\n",
    "encode_numeric_zscore(df, 'num_file_creations')\n",
    "encode_numeric_zscore(df, 'num_shells')\n",
    "encode_numeric_zscore(df, 'num_access_files')\n",
    "encode_numeric_zscore(df, 'num_outbound_cmds')\n",
    "encode_text_dummy(df, 'is_host_login')\n",
    "encode_text_dummy(df, 'is_guest_login')\n",
    "encode_numeric_zscore(df, 'count')\n",
    "encode_numeric_zscore(df, 'srv_count')\n",
    "encode_numeric_zscore(df, 'serror_rate')\n",
    "encode_numeric_zscore(df, 'srv_serror_rate')\n",
    "encode_numeric_zscore(df, 'rerror_rate')\n",
    "encode_numeric_zscore(df, 'srv_rerror_rate')\n",
    "encode_numeric_zscore(df, 'same_srv_rate')\n",
    "encode_numeric_zscore(df, 'diff_srv_rate')\n",
    "encode_numeric_zscore(df, 'srv_diff_host_rate')\n",
    "encode_numeric_zscore(df, 'dst_host_count')\n",
    "encode_numeric_zscore(df, 'dst_host_srv_count')\n",
    "encode_numeric_zscore(df, 'dst_host_same_srv_rate')\n",
    "encode_numeric_zscore(df, 'dst_host_diff_srv_rate')\n",
    "encode_numeric_zscore(df, 'dst_host_same_src_port_rate')\n",
    "encode_numeric_zscore(df, 'dst_host_srv_diff_host_rate')\n",
    "encode_numeric_zscore(df, 'dst_host_serror_rate')\n",
    "encode_numeric_zscore(df, 'dst_host_srv_serror_rate')\n",
    "encode_numeric_zscore(df, 'dst_host_rerror_rate')\n",
    "encode_numeric_zscore(df, 'dst_host_srv_rerror_rate')\n",
    "\n",
    "# display 5 rows\n",
    "\n",
    "df.dropna(inplace=True,axis=1)\n",
    "df[0:5]\n",
    "# This is the numeric feature vector, as it goes to the neural net\n",
    "\n",
    "df_trainer = None\n",
    "\n",
    "\n",
    "\n"
   ]
  },
  {
   "cell_type": "code",
   "execution_count": 7,
   "metadata": {},
   "outputs": [],
   "source": [
    "num_classes = 0\n",
    "while num_classes != 5: ###I need a sample that contains all the types of attacks, otherwise I cannot classify some of them\n",
    "\n",
    "    df_trainer = df.sample(frac=0.1, replace=False) # Uncomment this line to sample only 10% of the dataset\n",
    "    \n",
    "    # Convert to numpy - Classification\n",
    "    x_columns = df_trainer.columns.drop('outcome')\n",
    "    x = df_trainer[x_columns].values\n",
    "    dummies = pd.get_dummies(df_trainer['outcome']) # Classification\n",
    "    #dummies = pd.get_dummies(df['outcome']) # Classification\n",
    "\n",
    "    outcomes = dummies.columns\n",
    "    num_classes = len(outcomes)\n",
    "    y = dummies.values\n"
   ]
  },
  {
   "cell_type": "code",
   "execution_count": 8,
   "metadata": {},
   "outputs": [
    {
     "name": "stdout",
     "output_type": "stream",
     "text": [
      "outcome\n",
      "dos        562\n",
      "normal    1364\n",
      "probe      113\n",
      "r2l        209\n",
      "u2r          6\n",
      "Name: outcome, dtype: int64\n",
      "       duration  src_bytes  dst_bytes  wrong_fragment    urgent       hot  \\\n",
      "11456 -0.155531  -0.021988  -0.096894       -0.059103 -0.019459 -0.113519   \n",
      "14183 -0.155531  -0.021986  -0.096894       -0.059103 -0.019459 -0.113519   \n",
      "5197  -0.155531  -0.019856  -0.096894       -0.059103 -0.019459 -0.113519   \n",
      "6562  -0.154109  -0.021988  -0.096187       -0.059103 -0.019459 -0.113519   \n",
      "5181  -0.155531  -0.021766  -0.090013       -0.059103 -0.019459 -0.113519   \n",
      "\n",
      "       num_failed_logins  num_compromised  root_shell  su_attempted  ...  \\\n",
      "11456          -0.143996        -0.016493   -0.049452     -0.012637  ...   \n",
      "14183          -0.143996        -0.016493   -0.049452     -0.012637  ...   \n",
      "5197           -0.143996        -0.016493   -0.049452     -0.012637  ...   \n",
      "6562           -0.143996        -0.016493   -0.049452     -0.012637  ...   \n",
      "5181           -0.143996        -0.016493   -0.049452     -0.012637  ...   \n",
      "\n",
      "       flag-SF  flag-SH  land-0  land-1  logged_in-0  logged_in-1  \\\n",
      "11456        0        0       1       0            1            0   \n",
      "14183        1        0       1       0            1            0   \n",
      "5197         1        0       1       0            1            0   \n",
      "6562         0        0       1       0            1            0   \n",
      "5181         1        0       1       0            1            0   \n",
      "\n",
      "       is_host_login-0  is_host_login-1  is_guest_login-0  is_guest_login-1  \n",
      "11456                1                0                 1                 0  \n",
      "14183                1                0                 1                 0  \n",
      "5197                 1                0                 1                 0  \n",
      "6562                 1                0                 1                 0  \n",
      "5181                 1                0                 1                 0  \n",
      "\n",
      "[5 rows x 121 columns]\n"
     ]
    }
   ],
   "source": [
    "print(df_trainer.groupby('outcome')['outcome'].count())\n",
    "print(df_trainer.head())"
   ]
  },
  {
   "cell_type": "code",
   "execution_count": 9,
   "metadata": {},
   "outputs": [],
   "source": [
    "def baseline_model():\n",
    "    model = Sequential()\n",
    "    model.add(Dense(32, input_dim=x.shape[1], activation='relu'))\n",
    "    model.add(Dense(32, input_dim=x.shape[1], activation='relu'))\n",
    "    model.add(Dense(y.shape[1], activation='softmax'))\n",
    "    \n",
    "    model.compile(loss='categorical_crossentropy', optimizer='adam', metrics=['accuracy'])\n",
    "    return model\n",
    "\n",
    "estimator = KerasClassifier(build_fn=baseline_model, epochs=5, batch_size=50, verbose=0)"
   ]
  },
  {
   "cell_type": "code",
   "execution_count": 10,
   "metadata": {},
   "outputs": [],
   "source": [
    "from sklearn.model_selection import train_test_split\n",
    "\n",
    "x_train, x_test, y_train, y_test = train_test_split(x,y,test_size=0.25, random_state=42)"
   ]
  },
  {
   "cell_type": "code",
   "execution_count": 11,
   "metadata": {},
   "outputs": [],
   "source": [
    "#from sklearn.neural_network import MLPClassifier\n",
    "#mlp = MLPClassifier(hidden_layer_sizes=(64,64,),max_iter=50,verbose=True)\n",
    "#mlp.fit(x_train, y_train)"
   ]
  },
  {
   "cell_type": "code",
   "execution_count": 12,
   "metadata": {},
   "outputs": [],
   "source": [
    "#from sklearn.metrics import classification_report, confusion_matrix\n",
    "#predictions = mlp.predict(x_test)\n",
    "#print(confusion_matrix(y_test, predictions))\n",
    "#print(classification_report(y_test,predictions))"
   ]
  },
  {
   "cell_type": "code",
   "execution_count": 13,
   "metadata": {},
   "outputs": [
    {
     "name": "stdout",
     "output_type": "stream",
     "text": [
      "Train on 1690 samples, validate on 564 samples\n",
      "Epoch 1/50\n",
      "1690/1690 - 1s - loss: 1.5775 - accuracy: 0.3988 - val_loss: 0.9767 - val_accuracy: 0.6152\n",
      "Epoch 2/50\n",
      "1690/1690 - 0s - loss: 0.8091 - accuracy: 0.7225 - val_loss: 0.7157 - val_accuracy: 0.7553\n",
      "Epoch 3/50\n",
      "1690/1690 - 0s - loss: 0.6044 - accuracy: 0.7787 - val_loss: 0.5585 - val_accuracy: 0.7606\n",
      "Epoch 4/50\n",
      "1690/1690 - 0s - loss: 0.4613 - accuracy: 0.8189 - val_loss: 0.4274 - val_accuracy: 0.8333\n",
      "Epoch 5/50\n",
      "1690/1690 - 0s - loss: 0.3498 - accuracy: 0.8840 - val_loss: 0.3402 - val_accuracy: 0.8812\n",
      "Epoch 6/50\n",
      "1690/1690 - 0s - loss: 0.2765 - accuracy: 0.9142 - val_loss: 0.2854 - val_accuracy: 0.9043\n",
      "Epoch 7/50\n",
      "1690/1690 - 0s - loss: 0.2273 - accuracy: 0.9314 - val_loss: 0.2432 - val_accuracy: 0.9184\n",
      "Epoch 8/50\n",
      "1690/1690 - 0s - loss: 0.1907 - accuracy: 0.9391 - val_loss: 0.2048 - val_accuracy: 0.9326\n",
      "Epoch 9/50\n",
      "1690/1690 - 0s - loss: 0.1577 - accuracy: 0.9450 - val_loss: 0.1799 - val_accuracy: 0.9486\n",
      "Epoch 10/50\n",
      "1690/1690 - 0s - loss: 0.1290 - accuracy: 0.9598 - val_loss: 0.1556 - val_accuracy: 0.9504\n",
      "Epoch 11/50\n",
      "1690/1690 - 0s - loss: 0.1104 - accuracy: 0.9704 - val_loss: 0.1417 - val_accuracy: 0.9574\n",
      "Epoch 12/50\n",
      "1690/1690 - 0s - loss: 0.0971 - accuracy: 0.9734 - val_loss: 0.1344 - val_accuracy: 0.9592\n",
      "Epoch 13/50\n",
      "1690/1690 - 0s - loss: 0.0852 - accuracy: 0.9769 - val_loss: 0.1220 - val_accuracy: 0.9628\n",
      "Epoch 14/50\n",
      "1690/1690 - 0s - loss: 0.0768 - accuracy: 0.9763 - val_loss: 0.1146 - val_accuracy: 0.9681\n",
      "Epoch 15/50\n",
      "1690/1690 - 0s - loss: 0.0705 - accuracy: 0.9775 - val_loss: 0.1101 - val_accuracy: 0.9645\n",
      "Epoch 16/50\n",
      "1690/1690 - 0s - loss: 0.0650 - accuracy: 0.9781 - val_loss: 0.1083 - val_accuracy: 0.9699\n",
      "Epoch 17/50\n",
      "1690/1690 - 0s - loss: 0.0600 - accuracy: 0.9817 - val_loss: 0.1008 - val_accuracy: 0.9770\n",
      "Epoch 18/50\n",
      "1690/1690 - 0s - loss: 0.0558 - accuracy: 0.9817 - val_loss: 0.0956 - val_accuracy: 0.9663\n",
      "Epoch 19/50\n",
      "1690/1690 - 0s - loss: 0.0514 - accuracy: 0.9822 - val_loss: 0.0930 - val_accuracy: 0.9681\n",
      "Epoch 20/50\n",
      "1690/1690 - 0s - loss: 0.0489 - accuracy: 0.9834 - val_loss: 0.0921 - val_accuracy: 0.9699\n",
      "Epoch 21/50\n",
      "1690/1690 - 0s - loss: 0.0463 - accuracy: 0.9846 - val_loss: 0.0880 - val_accuracy: 0.9681\n",
      "Epoch 22/50\n",
      "1690/1690 - 0s - loss: 0.0428 - accuracy: 0.9846 - val_loss: 0.0888 - val_accuracy: 0.9752\n",
      "Epoch 23/50\n",
      "1690/1690 - 0s - loss: 0.0416 - accuracy: 0.9870 - val_loss: 0.0864 - val_accuracy: 0.9681\n",
      "Epoch 24/50\n",
      "1690/1690 - 0s - loss: 0.0390 - accuracy: 0.9870 - val_loss: 0.0830 - val_accuracy: 0.9681\n",
      "Epoch 25/50\n",
      "1690/1690 - 0s - loss: 0.0377 - accuracy: 0.9846 - val_loss: 0.0836 - val_accuracy: 0.9681\n",
      "Epoch 26/50\n",
      "1690/1690 - 0s - loss: 0.0366 - accuracy: 0.9846 - val_loss: 0.0851 - val_accuracy: 0.9716\n",
      "Epoch 27/50\n",
      "1690/1690 - 0s - loss: 0.0339 - accuracy: 0.9893 - val_loss: 0.0827 - val_accuracy: 0.9699\n",
      "Epoch 28/50\n",
      "1690/1690 - 0s - loss: 0.0323 - accuracy: 0.9870 - val_loss: 0.0778 - val_accuracy: 0.9681\n",
      "Epoch 29/50\n",
      "1690/1690 - 0s - loss: 0.0325 - accuracy: 0.9893 - val_loss: 0.0804 - val_accuracy: 0.9770\n",
      "Epoch 30/50\n",
      "1690/1690 - 0s - loss: 0.0311 - accuracy: 0.9893 - val_loss: 0.0785 - val_accuracy: 0.9787\n",
      "Epoch 31/50\n",
      "1690/1690 - 0s - loss: 0.0291 - accuracy: 0.9888 - val_loss: 0.0792 - val_accuracy: 0.9734\n",
      "Epoch 32/50\n",
      "1690/1690 - 0s - loss: 0.0294 - accuracy: 0.9882 - val_loss: 0.0809 - val_accuracy: 0.9716\n",
      "Epoch 33/50\n",
      "1690/1690 - 0s - loss: 0.0272 - accuracy: 0.9899 - val_loss: 0.0775 - val_accuracy: 0.9716\n",
      "Epoch 00033: early stopping\n"
     ]
    },
    {
     "data": {
      "text/plain": [
       "<tensorflow.python.keras.callbacks.History at 0x144ae1d6108>"
      ]
     },
     "execution_count": 13,
     "metadata": {},
     "output_type": "execute_result"
    }
   ],
   "source": [
    "from tensorflow.keras.callbacks import EarlyStopping\n",
    "\n",
    "monitor = EarlyStopping(monitor='val_loss', min_delta=1e-3, patience=5, verbose=1, mode='auto')\n",
    "estimator.fit(x_train,y_train,validation_data=(x_test,y_test),callbacks=[monitor],verbose=2,epochs=50)"
   ]
  },
  {
   "cell_type": "code",
   "execution_count": 14,
   "metadata": {},
   "outputs": [],
   "source": [
    "import numpy as np\n",
    "from sklearn import metrics\n",
    "\n",
    "pred = estimator.predict(x_test)"
   ]
  },
  {
   "cell_type": "code",
   "execution_count": 15,
   "metadata": {},
   "outputs": [
    {
     "name": "stdout",
     "output_type": "stream",
     "text": [
      "[0 1 1 1 1 0 0 1 0 1 3 0 1 1 1 1 1 0 1 0 1 0 1 2 1 2 1 1 1 3 0 1 0 0 1 1 1\n",
      " 0 0 0 1 0 0 1 1 3 0 3 1 1 2 1 1 1 1 0 1 1 1 1 1 0 3 0 1 1 0 2 2 1 1 0 1 2\n",
      " 1 1 1 0 1 1 0 1 1 1 1 1 1 3 0 3 0 0 1 1 3 3 0 1 0 1 1 1 1 2 1 0 0 1 0 1 0\n",
      " 1 1 0 1 1 1 1 1 1 1 1 1 2 1 1 1 2 1 1 1 3 0 1 0 1 1 0 1 1 0 1 1 0 1 0 1 0\n",
      " 1 0 1 1 0 1 0 1 1 1 1 1 1 1 2 1 1 0 1 1 0 1 0 1 0 1 0 1 0 1 0 3 1 1 1 3 1\n",
      " 1 1 2 3 1 1 2 1 1 1 1 1 0 1 1 1 0 3 1 1 0 3 0 2 0 1 1 1 1 1 2 3 2 1 1 1 1\n",
      " 1 0 3 1 1 0 1 1 1 1 3 1 0 3 0 1 1 3 0 1 1 0 1 3 1 3 1 1 1 1 0 0 3 1 1 0 0\n",
      " 3 1 1 3 0 1 1 1 1 2 1 1 1 1 3 1 1 1 3 0 1 1 1 1 1 1 1 1 0 3 1 3 3 1 4 1 0\n",
      " 3 1 1 3 1 1 1 3 0 1 1 1 3 1 2 1 1 2 2 1 1 2 1 1 1 1 1 1 1 1 0 1 1 1 1 1 1\n",
      " 1 3 3 0 1 0 3 0 1 1 3 2 4 0 0 2 0 1 0 1 1 1 0 1 1 1 1 1 0 1 1 1 1 1 1 3 0\n",
      " 3 1 1 1 1 0 2 1 0 1 1 0 1 1 1 1 1 0 0 1 1 1 2 0 1 1 1 0 1 1 3 1 1 1 3 1 1\n",
      " 1 1 1 1 0 3 0 0 1 2 2 1 1 1 1 0 1 1 1 0 1 1 1 0 3 3 1 3 2 2 1 1 0 1 1 1 1\n",
      " 3 3 1 1 1 1 1 2 1 0 1 1 1 1 1 1 2 1 1 1 1 1 1 1 1 0 0 0 1 1 1 2 1 0 0 0 0\n",
      " 1 0 1 1 1 1 0 1 1 1 1 1 0 0 1 0 3 3 1 3 0 3 0 1 1 0 1 1 1 1 1 1 1 3 3 3 2\n",
      " 1 3 1 1 1 1 1 1 1 1 3 0 1 1 3 1 2 3 1 1 1 1 1 0 0 1 0 0 0 0 1 1 1 0 1 0 1\n",
      " 1 3 1 0 0 0 1 1 1]\n",
      "Validation score: 0.9716312056737588\n"
     ]
    }
   ],
   "source": [
    "y_eval = np.argmax(y_test, axis=1)\n",
    "print(y_eval)\n",
    "score = metrics.accuracy_score(y_eval, pred)\n",
    "print(\"Validation score: {}\".format(score))"
   ]
  },
  {
   "cell_type": "code",
   "execution_count": 16,
   "metadata": {},
   "outputs": [
    {
     "name": "stdout",
     "output_type": "stream",
     "text": [
      "5\n"
     ]
    }
   ],
   "source": [
    "# Convert to numpy - Classification\n",
    "x_columns = df.columns.drop('outcome')\n",
    "x = df[x_columns].values\n",
    "dummies = pd.get_dummies(df['outcome']) # Classification\n",
    "outcomes = dummies.columns\n",
    "num_classes = len(outcomes)\n",
    "y = dummies.values\n",
    "\n",
    "print(num_classes)"
   ]
  },
  {
   "cell_type": "code",
   "execution_count": 17,
   "metadata": {},
   "outputs": [
    {
     "name": "stdout",
     "output_type": "stream",
     "text": [
      "Validation score for entire dataset: 0.977333215046132\n"
     ]
    }
   ],
   "source": [
    "y_eval_full = np.argmax(y, axis=1)\n",
    "full_pred = estimator.predict(x)\n",
    "score = metrics.accuracy_score(y_eval_full, full_pred)\n",
    "print(\"Validation score for entire dataset: {}\".format(score))\n"
   ]
  },
  {
   "cell_type": "code",
   "execution_count": null,
   "metadata": {},
   "outputs": [],
   "source": []
  },
  {
   "cell_type": "code",
   "execution_count": null,
   "metadata": {},
   "outputs": [],
   "source": []
  },
  {
   "cell_type": "code",
   "execution_count": null,
   "metadata": {},
   "outputs": [],
   "source": []
  }
 ],
 "metadata": {
  "kernelspec": {
   "display_name": "Python 3",
   "language": "python",
   "name": "python3"
  },
  "language_info": {
   "codemirror_mode": {
    "name": "ipython",
    "version": 3
   },
   "file_extension": ".py",
   "mimetype": "text/x-python",
   "name": "python",
   "nbconvert_exporter": "python",
   "pygments_lexer": "ipython3",
   "version": "3.7.5"
  }
 },
 "nbformat": 4,
 "nbformat_minor": 2
}
