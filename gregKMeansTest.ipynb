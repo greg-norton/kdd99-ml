{
 "cells": [
  {
   "cell_type": "code",
   "execution_count": 43,
   "metadata": {},
   "outputs": [],
   "source": [
    "import pandas as pd\n",
    "import tensorflow as tf\n",
    "import numpy as np\n",
    "from sklearn import metrics\n",
    "from tensorflow.keras.utils import get_file\n",
    "from tensorflow.keras.models import Sequential\n",
    "from tensorflow.keras.wrappers.scikit_learn import KerasClassifier\n",
    "from tensorflow.keras.layers import Dense\n",
    "from tensorflow.keras.callbacks import EarlyStopping, LearningRateScheduler\n",
    "from sklearn.model_selection import train_test_split\n",
    "from sklearn.neural_network import MLPClassifier\n",
    "from sklearn.metrics import classification_report, confusion_matrix\n",
    "\n",
    "def get_remote_dataset(URL,header=None):\n",
    "    try:\n",
    "        path = get_file(URL.split('/')[-1], origin=URL)\n",
    "    except:\n",
    "        print('Error downloading remote dataset.')\n",
    "        raise\n",
    "    return pd.read_csv(path, header=header)\n",
    "\n",
    "def get_local_dataset(PATH, header=None):\n",
    "    try:\n",
    "        df = pd.read_csv(PATH,header=header)\n",
    "    except:\n",
    "        print('Error loading local dataset.')\n",
    "        raise\n",
    "    df.dropna(inplace=True,axis=1) # For now, just drop NA's (rows with missing values)\n",
    "    print('Read {} rows.'.format(len(df)))\n",
    "    return df\n",
    "\n",
    "def set_KDD_columns(kdd_df):\n",
    "    kdd_df.columns = [\n",
    "        'duration',\n",
    "        'protocol_type',\n",
    "        'service',\n",
    "        'flag',\n",
    "        'src_bytes',\n",
    "        'dst_bytes',\n",
    "        'land',\n",
    "        'wrong_fragment',\n",
    "        'urgent',\n",
    "        'hot',\n",
    "        'num_failed_logins',\n",
    "        'logged_in',\n",
    "        'num_compromised',\n",
    "        'root_shell',\n",
    "        'su_attempted',\n",
    "        'num_root',\n",
    "        'num_file_creations',\n",
    "        'num_shells',\n",
    "        'num_access_files',\n",
    "        'num_outbound_cmds',\n",
    "        'is_host_login',\n",
    "        'is_guest_login',\n",
    "        'count',\n",
    "        'srv_count',\n",
    "        'serror_rate',\n",
    "        'srv_serror_rate',\n",
    "        'rerror_rate',\n",
    "        'srv_rerror_rate',\n",
    "        'same_srv_rate',\n",
    "        'diff_srv_rate',\n",
    "        'srv_diff_host_rate',\n",
    "        'dst_host_count',\n",
    "        'dst_host_srv_count',\n",
    "        'dst_host_same_srv_rate',\n",
    "        'dst_host_diff_srv_rate',\n",
    "        'dst_host_same_src_port_rate',\n",
    "        'dst_host_srv_diff_host_rate',\n",
    "        'dst_host_serror_rate',\n",
    "        'dst_host_srv_serror_rate',\n",
    "        'dst_host_rerror_rate',\n",
    "        'dst_host_srv_rerror_rate',\n",
    "        'outcome',\n",
    "        'difficulty_rating'\n",
    "    ]\n",
    "    #return kdd_df\n",
    "\n",
    "def set_bin_class(df):\n",
    "    for i, row in df.iterrows():\n",
    "        if row['outcome'].split('.')[0] != 'normal':\n",
    "            df.at[i, 'outcome'] = 'anomaly'\n",
    "\n",
    "def set_multi_class(df):\n",
    "    ### THIS WILL ONLY WORK WITH THE ENTIRE KDD DATASET. WILL NOT WORK WITH NSL-KDD SET!!! ###\n",
    "    ### THIS IS YOUR ONLY WARNING!!!###\n",
    "    DOS_TYPES = ('back','land','neptune','pod','smurf','teardrop')\n",
    "    U2R_TYPES = ('buffer_overflow','loadmodule','perl','rootkit')\n",
    "    R2L_TYPES = ('ftp_write','guess_passwd','imap','multihop','phf','spy','warezclient','warezmaster')\n",
    "    PROBE_TYPES = ('ipsweep','nmap','portsweep','satan')\n",
    "            \n",
    "    for i, row in df.iterrows():\n",
    "        val = 'normal'\n",
    "        old_val = row['outcome'].split('.')[0]\n",
    "        if old_val in DOS_TYPES:\n",
    "            val = 'dos'\n",
    "        elif old_val in U2R_TYPES:\n",
    "            val = 'u2r'\n",
    "        elif old_val in R2L_TYPES:\n",
    "            val = 'r2l'\n",
    "        elif old_val in PROBE_TYPES:\n",
    "            val = 'probe'\n",
    "        df.at[i,'outcome'] = val \n",
    "\n",
    "def encode_zscore(df, name, mean=None, std_dev=None):\n",
    "    '''Encode numeric values as zscore'''\n",
    "    if mean == None:\n",
    "        mean = df[name].mean()\n",
    "    if std_dev == None:\n",
    "        std_dev = df[name].std()\n",
    "    df[name] = (df[name] - mean) / std_dev\n",
    "\n",
    "def encode_text(df, name):\n",
    "    '''Encode text values to binary dummy values (i.e. red,blue is [0,1] or [1,0])'''\n",
    "    dummies = pd.get_dummies(df[name])\n",
    "    for x in dummies.columns:\n",
    "        new_name = f\"{name}-{x}\"\n",
    "        df[new_name] = dummies[x]\n",
    "    df.drop(name, axis=1, inplace=True)\n",
    "\n",
    "def reencode_dataset(df):\n",
    "    '''Takes a KDD pandas dataframe and transforms the data by \n",
    "    changing numeric columns to zscore, and text columns to \n",
    "    dummy values'''\n",
    "\n",
    "    encode_zscore(df, 'duration')\n",
    "    encode_text(df, 'protocol_type')\n",
    "    encode_text(df, 'service')\n",
    "    encode_text(df, 'flag')\n",
    "    encode_zscore(df, 'src_bytes')\n",
    "    encode_zscore(df, 'dst_bytes')\n",
    "    encode_text(df, 'land')\n",
    "    encode_zscore(df, 'wrong_fragment')\n",
    "    encode_zscore(df, 'urgent')\n",
    "    encode_zscore(df, 'hot')\n",
    "    encode_zscore(df, 'num_failed_logins')\n",
    "    encode_text(df, 'logged_in')\n",
    "    encode_zscore(df, 'num_compromised')\n",
    "    encode_zscore(df, 'root_shell')\n",
    "    encode_zscore(df, 'su_attempted')\n",
    "    encode_zscore(df, 'num_root')\n",
    "    encode_zscore(df, 'num_file_creations')\n",
    "    encode_zscore(df, 'num_shells')\n",
    "    encode_zscore(df, 'num_access_files')\n",
    "    encode_zscore(df, 'num_outbound_cmds')\n",
    "    encode_text(df, 'is_host_login')\n",
    "    encode_text(df, 'is_guest_login')\n",
    "    encode_zscore(df, 'count')\n",
    "    encode_zscore(df, 'srv_count')\n",
    "    encode_zscore(df, 'serror_rate')\n",
    "    encode_zscore(df, 'srv_serror_rate')\n",
    "    encode_zscore(df, 'rerror_rate')\n",
    "    encode_zscore(df, 'srv_rerror_rate')\n",
    "    encode_zscore(df, 'same_srv_rate')\n",
    "    encode_zscore(df, 'diff_srv_rate')\n",
    "    encode_zscore(df, 'srv_diff_host_rate')\n",
    "    encode_zscore(df, 'dst_host_count')\n",
    "    encode_zscore(df, 'dst_host_srv_count')\n",
    "    encode_zscore(df, 'dst_host_same_srv_rate')\n",
    "    encode_zscore(df, 'dst_host_diff_srv_rate')\n",
    "    encode_zscore(df, 'dst_host_same_src_port_rate')\n",
    "    encode_zscore(df, 'dst_host_srv_diff_host_rate')\n",
    "    encode_zscore(df, 'dst_host_serror_rate')\n",
    "    encode_zscore(df, 'dst_host_srv_serror_rate')\n",
    "    encode_zscore(df, 'dst_host_rerror_rate')\n",
    "    encode_zscore(df, 'dst_host_srv_rerror_rate')\n",
    "\n",
    "    #return df\n",
    "\n",
    "def generate_training_set(df, num_outcomes,frac=0.1):\n",
    "    '''This doesn't work well right now. FIX ME!!!'''\n",
    "    while True:\n",
    "        df_train = df.sample(frac=frac, replace=False)\n",
    "        dummies = pd.get_dummies(df_train['outcome'])\n",
    "        if len(dummies.columns) != num_outcomes:\n",
    "            continue\n",
    "        x_columns = df_train.columns.drop(['outcome','difficulty_rating'])\n",
    "        x = df_train[x_columns].values\n",
    "        y = dummies.values\n",
    "        break\n",
    "\n",
    "    print(df_train.groupby('outcome')['outcome'].count())\n",
    "    print(df_train.head())\n",
    "    print(df_train.columns)\n",
    "\n",
    "    return x, y\n",
    "\n",
    "def build_classifier(x, y, hidden_layers=[8], activation='relu', batch_size=None, verbose=1):\n",
    "    def baseline_model():\n",
    "        model = Sequential()\n",
    "        for layer in hidden_layers:\n",
    "            model.add(Dense(layer, activation=activation))\n",
    "        model.add(Dense(y.shape[1], activation='softmax'))\n",
    "\n",
    "        model.compile(loss='categorical_crossentropy', optimizer='adam', metrics=['accuracy'])\n",
    "        return model\n",
    "    estimator = KerasClassifier(build_fn=baseline_model, batch_size=batch_size, verbose=verbose)\n",
    "    return estimator\n",
    "\n",
    "def run_tf():\n",
    "    ###acquire and process dataset\n",
    "    df = get_local_dataset('./nslkdd/KDDTest+.txt')\n",
    "    #df_train = get_local_dataset('./nslkdd/KDDTrain+.txt')\n",
    "    set_KDD_columns(df)\n",
    "    reencode_dataset(df)\n",
    "    #set_bin_class(df)\n",
    "    df.dropna(inplace=True, axis=1)\n",
    "    x, y = generate_training_set(df,df['outcome'].nunique(),frac=1.0)\n",
    "\n",
    "    ###build MLP model\n",
    "    estimator = build_classifier(x, y, hidden_layers=[64,64])\n",
    "    x_train, x_test, y_train, y_test = train_test_split(x, y, test_size=0.25, random_state=42)\n",
    "\n",
    "    ###train model\n",
    "    monitor = EarlyStopping(monitor='val_loss', min_delta=1e-3, patience=5, verbose=1, mode='auto')\n",
    "    estimator.fit(x_train,y_train,validation_data=(x_test,y_test),callbacks=[monitor],verbose=1,epochs=100)\n",
    "\n",
    "    ###evaluate model\n",
    "    pred = estimator.predict(x_test)\n",
    "    y_eval = np.argmax(y_test, axis=1)\n",
    "    print(y_eval)\n",
    "    score = metrics.accuracy_score(y_eval, pred)\n",
    "    print(\"Validation score: {}\".format(score))\n",
    "\n",
    "def run_tf_full():\n",
    "    df_test = get_local_dataset('./nslkdd/KDDTest+.txt')\n",
    "    set_KDD_columns(df_test)\n",
    "    reencode_dataset(df_test)\n",
    "    set_bin_class(df_test)\n",
    "    for col in ('service-aol','service-harvest','service-http_2784','service-http_8001','service-red_i','service-urh_i'):\n",
    "        df_test[col] = 0    \n",
    "    df_test.fillna(value=0, inplace=True, axis=1)\n",
    "\n",
    "    x_final, y_final = generate_training_set(df_test, df_test['outcome'].nunique(), frac=1.0)\n",
    "    \n",
    "    df_train = get_local_dataset('./nslkdd/KDDTrain+.txt')\n",
    "    set_KDD_columns(df_train)\n",
    "    reencode_dataset(df_train)\n",
    "    set_bin_class(df_train)\n",
    "    df_train.fillna(value=0, inplace=True, axis=1)\n",
    "\n",
    "    df_test = df_test[df_train.columns] #fixes column ordering (does that matter? probably)\n",
    "    #print(df_test.columns)\n",
    "    #print(df_train.columns)\n",
    "    \n",
    "    x, y = generate_training_set(df_train, df_train['outcome'].nunique(), frac=0.1)\n",
    "\n",
    "    x_train, x_test, y_train, y_test = train_test_split(x, y, test_size=0.25)\n",
    "\n",
    "\n",
    "    #for col in df_train.columns:\n",
    "    #    if col not in df_test.columns:\n",
    "    #        print(col)\n",
    "\n",
    "    estimator = build_classifier(x_train, y_train, hidden_layers=[128,128,128,128,128,128,128,128,128,128])\n",
    "\n",
    "    monitor = EarlyStopping(monitor='val_loss', min_delta=1e-4, patience=5, verbose=1, mode='auto')\n",
    "    \n",
    "    estimator.fit(x_train,y_train,validation_data=(x_test,y_test),callbacks=[monitor],verbose=1,epochs=100)\n",
    "\n",
    "    ###evaluate model\n",
    "    pred = estimator.predict(x_final)\n",
    "    y_eval = np.argmax(y_final, axis=1)\n",
    "    print(y_eval)\n",
    "    score = metrics.accuracy_score(y_eval, pred)\n",
    "    print(\"Validation score: {}\".format(score))\n",
    "\n",
    "def run_sklearn():\n",
    "    df = get_local_dataset('./nslkdd/KDDTrain+.txt')\n",
    "    df = set_KDD_columns(df)\n",
    "    df = reencode_dataset(df)\n",
    "    df.dropna(inplace=True, axis=1)\n",
    "    x, y = generate_training_set(df,df['outcome'].nunique())\n",
    "\n",
    "    x_train, x_test, y_train, y_test = train_test_split(x,y,test_size=0.25, random_state=42)\n",
    "\n",
    "    mlp = MLPClassifier(hidden_layer_sizes=(64,64,),max_iter=50,verbose=True)\n",
    "    mlp.fit(x_train, y_train)\n",
    "\n",
    "    predictions = mlp.predict(x_test)\n",
    "    #print(confusion_matrix(y_test, predictions))\n",
    "    print(classification_report(y_test,predictions))"
   ]
  },
  {
   "cell_type": "code",
   "execution_count": 44,
   "metadata": {
    "scrolled": false
   },
   "outputs": [
    {
     "name": "stdout",
     "output_type": "stream",
     "text": [
      "Read 125973 rows.\n",
      "125973\n",
      "outcome\n",
      "back                 956\n",
      "buffer_overflow       30\n",
      "ftp_write              8\n",
      "guess_passwd          53\n",
      "imap                  11\n",
      "ipsweep             3599\n",
      "land                  18\n",
      "loadmodule             9\n",
      "multihop               7\n",
      "neptune            41214\n",
      "nmap                1493\n",
      "normal             67343\n",
      "perl                   3\n",
      "phf                    4\n",
      "pod                  201\n",
      "portsweep           2931\n",
      "rootkit               10\n",
      "satan               3633\n",
      "smurf               2646\n",
      "spy                    2\n",
      "teardrop             892\n",
      "warezclient          890\n",
      "warezmaster           20\n",
      "Name: outcome, dtype: int64\n",
      "        duration  src_bytes  dst_bytes  wrong_fragment    urgent       hot  \\\n",
      "61315  -0.110249  -0.007727  -0.004829       -0.089486 -0.007736 -0.095075   \n",
      "102406 -0.110249  -0.007762  -0.004919       -0.089486 -0.007736 -0.095075   \n",
      "25324  -0.110249  -0.007762  -0.004919       -0.089486 -0.007736 -0.095075   \n",
      "125635 -0.110249  -0.007725  -0.004300       -0.089486 -0.007736 -0.095075   \n",
      "43054  -0.110249  -0.007599  -0.004836       -0.089486 -0.007736 -0.095075   \n",
      "\n",
      "        num_failed_logins  num_compromised  root_shell  su_attempted  ...  \\\n",
      "61315           -0.027023        -0.011664   -0.036652     -0.024436  ...   \n",
      "102406          -0.027023        -0.011664   -0.036652     -0.024436  ...   \n",
      "25324           -0.027023        -0.011664   -0.036652     -0.024436  ...   \n",
      "125635          -0.027023        -0.011664   -0.036652     -0.024436  ...   \n",
      "43054           -0.027023        -0.011664   -0.036652     -0.024436  ...   \n",
      "\n",
      "        flag-SF  flag-SH  land-0  land-1  logged_in-0  logged_in-1  \\\n",
      "61315         1        0       1       0            0            1   \n",
      "102406        0        0       1       0            1            0   \n",
      "25324         0        0       1       0            1            0   \n",
      "125635        1        0       1       0            0            1   \n",
      "43054         1        0       1       0            0            1   \n",
      "\n",
      "        is_host_login-0  is_host_login-1  is_guest_login-0  is_guest_login-1  \n",
      "61315                 1                0                 1                 0  \n",
      "102406                1                0                 1                 0  \n",
      "25324                 1                0                 1                 0  \n",
      "125635                1                0                 1                 0  \n",
      "43054                 1                0                 1                 0  \n",
      "\n",
      "[5 rows x 127 columns]\n",
      "Index(['duration', 'src_bytes', 'dst_bytes', 'wrong_fragment', 'urgent', 'hot',\n",
      "       'num_failed_logins', 'num_compromised', 'root_shell', 'su_attempted',\n",
      "       ...\n",
      "       'flag-SF', 'flag-SH', 'land-0', 'land-1', 'logged_in-0', 'logged_in-1',\n",
      "       'is_host_login-0', 'is_host_login-1', 'is_guest_login-0',\n",
      "       'is_guest_login-1'],\n",
      "      dtype='object', length=127)\n"
     ]
    }
   ],
   "source": [
    "from sklearn.cluster import KMeans\n",
    "\n",
    "df = get_local_dataset('./nslkdd/KDDTrain+.txt')\n",
    "print(len(df))\n",
    "complete_df = df\n",
    "set_KDD_columns(df)\n",
    "#set_bin_class(df)\n",
    "control = df\n",
    "reencode_dataset(df)\n",
    "\n",
    "df.dropna(inplace=True, axis=1)\n",
    "\n",
    "x, y = generate_training_set(df,df['outcome'].nunique(), frac=1.0)\n",
    "\n",
    "#model = KMeans().fit(x)\n"
   ]
  },
  {
   "cell_type": "code",
   "execution_count": 45,
   "metadata": {},
   "outputs": [],
   "source": [
    "# import seaborn as sns\n",
    "# sns.set(style='ticks')\n",
    "\n",
    "# fig = sns.pairplot(df, vars = [], hue='outcome', height=2, aspect=1, dropna=True)"
   ]
  },
  {
   "cell_type": "code",
   "execution_count": 46,
   "metadata": {
    "scrolled": true
   },
   "outputs": [
    {
     "data": {
      "text/html": [
       "<div>\n",
       "<style scoped>\n",
       "    .dataframe tbody tr th:only-of-type {\n",
       "        vertical-align: middle;\n",
       "    }\n",
       "\n",
       "    .dataframe tbody tr th {\n",
       "        vertical-align: top;\n",
       "    }\n",
       "\n",
       "    .dataframe thead th {\n",
       "        text-align: right;\n",
       "    }\n",
       "</style>\n",
       "<table border=\"1\" class=\"dataframe\">\n",
       "  <thead>\n",
       "    <tr style=\"text-align: right;\">\n",
       "      <th></th>\n",
       "      <th>duration</th>\n",
       "      <th>src_bytes</th>\n",
       "      <th>dst_bytes</th>\n",
       "      <th>wrong_fragment</th>\n",
       "      <th>urgent</th>\n",
       "      <th>hot</th>\n",
       "      <th>num_failed_logins</th>\n",
       "      <th>num_compromised</th>\n",
       "      <th>root_shell</th>\n",
       "      <th>su_attempted</th>\n",
       "      <th>...</th>\n",
       "      <th>flag-SF</th>\n",
       "      <th>flag-SH</th>\n",
       "      <th>land-0</th>\n",
       "      <th>land-1</th>\n",
       "      <th>logged_in-0</th>\n",
       "      <th>logged_in-1</th>\n",
       "      <th>is_host_login-0</th>\n",
       "      <th>is_host_login-1</th>\n",
       "      <th>is_guest_login-0</th>\n",
       "      <th>is_guest_login-1</th>\n",
       "    </tr>\n",
       "  </thead>\n",
       "  <tbody>\n",
       "    <tr>\n",
       "      <th>count</th>\n",
       "      <td>1.259730e+05</td>\n",
       "      <td>1.259730e+05</td>\n",
       "      <td>1.259730e+05</td>\n",
       "      <td>1.259730e+05</td>\n",
       "      <td>1.259730e+05</td>\n",
       "      <td>1.259730e+05</td>\n",
       "      <td>1.259730e+05</td>\n",
       "      <td>1.259730e+05</td>\n",
       "      <td>1.259730e+05</td>\n",
       "      <td>1.259730e+05</td>\n",
       "      <td>...</td>\n",
       "      <td>125973.000000</td>\n",
       "      <td>125973.000000</td>\n",
       "      <td>125973.000000</td>\n",
       "      <td>125973.000000</td>\n",
       "      <td>125973.000000</td>\n",
       "      <td>125973.000000</td>\n",
       "      <td>125973.000000</td>\n",
       "      <td>125973.000000</td>\n",
       "      <td>125973.000000</td>\n",
       "      <td>125973.000000</td>\n",
       "    </tr>\n",
       "    <tr>\n",
       "      <th>mean</th>\n",
       "      <td>-2.098242e-17</td>\n",
       "      <td>-6.768524e-19</td>\n",
       "      <td>-8.460655e-19</td>\n",
       "      <td>-1.607524e-18</td>\n",
       "      <td>-7.332568e-19</td>\n",
       "      <td>4.444664e-17</td>\n",
       "      <td>-1.917748e-17</td>\n",
       "      <td>3.384262e-18</td>\n",
       "      <td>6.712120e-18</td>\n",
       "      <td>3.102240e-18</td>\n",
       "      <td>...</td>\n",
       "      <td>0.594929</td>\n",
       "      <td>0.002151</td>\n",
       "      <td>0.999802</td>\n",
       "      <td>0.000198</td>\n",
       "      <td>0.604264</td>\n",
       "      <td>0.395736</td>\n",
       "      <td>0.999992</td>\n",
       "      <td>0.000008</td>\n",
       "      <td>0.990577</td>\n",
       "      <td>0.009423</td>\n",
       "    </tr>\n",
       "    <tr>\n",
       "      <th>std</th>\n",
       "      <td>1.000000e+00</td>\n",
       "      <td>1.000000e+00</td>\n",
       "      <td>1.000000e+00</td>\n",
       "      <td>1.000000e+00</td>\n",
       "      <td>1.000000e+00</td>\n",
       "      <td>1.000000e+00</td>\n",
       "      <td>1.000000e+00</td>\n",
       "      <td>1.000000e+00</td>\n",
       "      <td>1.000000e+00</td>\n",
       "      <td>1.000000e+00</td>\n",
       "      <td>...</td>\n",
       "      <td>0.490908</td>\n",
       "      <td>0.046332</td>\n",
       "      <td>0.014086</td>\n",
       "      <td>0.014086</td>\n",
       "      <td>0.489010</td>\n",
       "      <td>0.489010</td>\n",
       "      <td>0.002817</td>\n",
       "      <td>0.002817</td>\n",
       "      <td>0.096612</td>\n",
       "      <td>0.096612</td>\n",
       "    </tr>\n",
       "    <tr>\n",
       "      <th>min</th>\n",
       "      <td>-1.102488e-01</td>\n",
       "      <td>-7.762210e-03</td>\n",
       "      <td>-4.918625e-03</td>\n",
       "      <td>-8.948607e-02</td>\n",
       "      <td>-7.735954e-03</td>\n",
       "      <td>-9.507529e-02</td>\n",
       "      <td>-2.702271e-02</td>\n",
       "      <td>-1.166360e-02</td>\n",
       "      <td>-3.665172e-02</td>\n",
       "      <td>-2.443641e-02</td>\n",
       "      <td>...</td>\n",
       "      <td>0.000000</td>\n",
       "      <td>0.000000</td>\n",
       "      <td>0.000000</td>\n",
       "      <td>0.000000</td>\n",
       "      <td>0.000000</td>\n",
       "      <td>0.000000</td>\n",
       "      <td>0.000000</td>\n",
       "      <td>0.000000</td>\n",
       "      <td>0.000000</td>\n",
       "      <td>0.000000</td>\n",
       "    </tr>\n",
       "    <tr>\n",
       "      <th>25%</th>\n",
       "      <td>-1.102488e-01</td>\n",
       "      <td>-7.762210e-03</td>\n",
       "      <td>-4.918625e-03</td>\n",
       "      <td>-8.948607e-02</td>\n",
       "      <td>-7.735954e-03</td>\n",
       "      <td>-9.507529e-02</td>\n",
       "      <td>-2.702271e-02</td>\n",
       "      <td>-1.166360e-02</td>\n",
       "      <td>-3.665172e-02</td>\n",
       "      <td>-2.443641e-02</td>\n",
       "      <td>...</td>\n",
       "      <td>0.000000</td>\n",
       "      <td>0.000000</td>\n",
       "      <td>1.000000</td>\n",
       "      <td>0.000000</td>\n",
       "      <td>0.000000</td>\n",
       "      <td>0.000000</td>\n",
       "      <td>1.000000</td>\n",
       "      <td>0.000000</td>\n",
       "      <td>1.000000</td>\n",
       "      <td>0.000000</td>\n",
       "    </tr>\n",
       "    <tr>\n",
       "      <th>50%</th>\n",
       "      <td>-1.102488e-01</td>\n",
       "      <td>-7.754715e-03</td>\n",
       "      <td>-4.918625e-03</td>\n",
       "      <td>-8.948607e-02</td>\n",
       "      <td>-7.735954e-03</td>\n",
       "      <td>-9.507529e-02</td>\n",
       "      <td>-2.702271e-02</td>\n",
       "      <td>-1.166360e-02</td>\n",
       "      <td>-3.665172e-02</td>\n",
       "      <td>-2.443641e-02</td>\n",
       "      <td>...</td>\n",
       "      <td>1.000000</td>\n",
       "      <td>0.000000</td>\n",
       "      <td>1.000000</td>\n",
       "      <td>0.000000</td>\n",
       "      <td>1.000000</td>\n",
       "      <td>0.000000</td>\n",
       "      <td>1.000000</td>\n",
       "      <td>0.000000</td>\n",
       "      <td>1.000000</td>\n",
       "      <td>0.000000</td>\n",
       "    </tr>\n",
       "    <tr>\n",
       "      <th>75%</th>\n",
       "      <td>-1.102488e-01</td>\n",
       "      <td>-7.715194e-03</td>\n",
       "      <td>-4.790307e-03</td>\n",
       "      <td>-8.948607e-02</td>\n",
       "      <td>-7.735954e-03</td>\n",
       "      <td>-9.507529e-02</td>\n",
       "      <td>-2.702271e-02</td>\n",
       "      <td>-1.166360e-02</td>\n",
       "      <td>-3.665172e-02</td>\n",
       "      <td>-2.443641e-02</td>\n",
       "      <td>...</td>\n",
       "      <td>1.000000</td>\n",
       "      <td>0.000000</td>\n",
       "      <td>1.000000</td>\n",
       "      <td>0.000000</td>\n",
       "      <td>1.000000</td>\n",
       "      <td>1.000000</td>\n",
       "      <td>1.000000</td>\n",
       "      <td>0.000000</td>\n",
       "      <td>1.000000</td>\n",
       "      <td>0.000000</td>\n",
       "    </tr>\n",
       "    <tr>\n",
       "      <th>max</th>\n",
       "      <td>1.636422e+01</td>\n",
       "      <td>2.350665e+02</td>\n",
       "      <td>3.257473e+02</td>\n",
       "      <td>1.174343e+01</td>\n",
       "      <td>2.088183e+02</td>\n",
       "      <td>3.571940e+01</td>\n",
       "      <td>1.104967e+02</td>\n",
       "      <td>3.123677e+02</td>\n",
       "      <td>2.728363e+01</td>\n",
       "      <td>4.426805e+01</td>\n",
       "      <td>...</td>\n",
       "      <td>1.000000</td>\n",
       "      <td>1.000000</td>\n",
       "      <td>1.000000</td>\n",
       "      <td>1.000000</td>\n",
       "      <td>1.000000</td>\n",
       "      <td>1.000000</td>\n",
       "      <td>1.000000</td>\n",
       "      <td>1.000000</td>\n",
       "      <td>1.000000</td>\n",
       "      <td>1.000000</td>\n",
       "    </tr>\n",
       "  </tbody>\n",
       "</table>\n",
       "<p>8 rows × 126 columns</p>\n",
       "</div>"
      ],
      "text/plain": [
       "           duration     src_bytes     dst_bytes  wrong_fragment        urgent  \\\n",
       "count  1.259730e+05  1.259730e+05  1.259730e+05    1.259730e+05  1.259730e+05   \n",
       "mean  -2.098242e-17 -6.768524e-19 -8.460655e-19   -1.607524e-18 -7.332568e-19   \n",
       "std    1.000000e+00  1.000000e+00  1.000000e+00    1.000000e+00  1.000000e+00   \n",
       "min   -1.102488e-01 -7.762210e-03 -4.918625e-03   -8.948607e-02 -7.735954e-03   \n",
       "25%   -1.102488e-01 -7.762210e-03 -4.918625e-03   -8.948607e-02 -7.735954e-03   \n",
       "50%   -1.102488e-01 -7.754715e-03 -4.918625e-03   -8.948607e-02 -7.735954e-03   \n",
       "75%   -1.102488e-01 -7.715194e-03 -4.790307e-03   -8.948607e-02 -7.735954e-03   \n",
       "max    1.636422e+01  2.350665e+02  3.257473e+02    1.174343e+01  2.088183e+02   \n",
       "\n",
       "                hot  num_failed_logins  num_compromised    root_shell  \\\n",
       "count  1.259730e+05       1.259730e+05     1.259730e+05  1.259730e+05   \n",
       "mean   4.444664e-17      -1.917748e-17     3.384262e-18  6.712120e-18   \n",
       "std    1.000000e+00       1.000000e+00     1.000000e+00  1.000000e+00   \n",
       "min   -9.507529e-02      -2.702271e-02    -1.166360e-02 -3.665172e-02   \n",
       "25%   -9.507529e-02      -2.702271e-02    -1.166360e-02 -3.665172e-02   \n",
       "50%   -9.507529e-02      -2.702271e-02    -1.166360e-02 -3.665172e-02   \n",
       "75%   -9.507529e-02      -2.702271e-02    -1.166360e-02 -3.665172e-02   \n",
       "max    3.571940e+01       1.104967e+02     3.123677e+02  2.728363e+01   \n",
       "\n",
       "       su_attempted  ...        flag-SF        flag-SH         land-0  \\\n",
       "count  1.259730e+05  ...  125973.000000  125973.000000  125973.000000   \n",
       "mean   3.102240e-18  ...       0.594929       0.002151       0.999802   \n",
       "std    1.000000e+00  ...       0.490908       0.046332       0.014086   \n",
       "min   -2.443641e-02  ...       0.000000       0.000000       0.000000   \n",
       "25%   -2.443641e-02  ...       0.000000       0.000000       1.000000   \n",
       "50%   -2.443641e-02  ...       1.000000       0.000000       1.000000   \n",
       "75%   -2.443641e-02  ...       1.000000       0.000000       1.000000   \n",
       "max    4.426805e+01  ...       1.000000       1.000000       1.000000   \n",
       "\n",
       "              land-1    logged_in-0    logged_in-1  is_host_login-0  \\\n",
       "count  125973.000000  125973.000000  125973.000000    125973.000000   \n",
       "mean        0.000198       0.604264       0.395736         0.999992   \n",
       "std         0.014086       0.489010       0.489010         0.002817   \n",
       "min         0.000000       0.000000       0.000000         0.000000   \n",
       "25%         0.000000       0.000000       0.000000         1.000000   \n",
       "50%         0.000000       1.000000       0.000000         1.000000   \n",
       "75%         0.000000       1.000000       1.000000         1.000000   \n",
       "max         1.000000       1.000000       1.000000         1.000000   \n",
       "\n",
       "       is_host_login-1  is_guest_login-0  is_guest_login-1  \n",
       "count    125973.000000     125973.000000     125973.000000  \n",
       "mean          0.000008          0.990577          0.009423  \n",
       "std           0.002817          0.096612          0.096612  \n",
       "min           0.000000          0.000000          0.000000  \n",
       "25%           0.000000          1.000000          0.000000  \n",
       "50%           0.000000          1.000000          0.000000  \n",
       "75%           0.000000          1.000000          0.000000  \n",
       "max           1.000000          1.000000          1.000000  \n",
       "\n",
       "[8 rows x 126 columns]"
      ]
     },
     "execution_count": 46,
     "metadata": {},
     "output_type": "execute_result"
    }
   ],
   "source": [
    "df.describe()"
   ]
  },
  {
   "cell_type": "code",
   "execution_count": 47,
   "metadata": {},
   "outputs": [
    {
     "data": {
      "text/plain": [
       "array([0, 0, 0, 0, 0, 0, 0, 0, 0, 0, 0, 1, 0, 0, 0, 0, 0, 0, 0, 0, 0, 0,\n",
       "       0], dtype=uint8)"
      ]
     },
     "execution_count": 47,
     "metadata": {},
     "output_type": "execute_result"
    }
   ],
   "source": [
    "y[3553]"
   ]
  },
  {
   "cell_type": "code",
   "execution_count": 48,
   "metadata": {},
   "outputs": [
    {
     "name": "stdout",
     "output_type": "stream",
     "text": [
      "duration                       float64\n",
      "src_bytes                      float64\n",
      "dst_bytes                      float64\n",
      "wrong_fragment                 float64\n",
      "urgent                         float64\n",
      "hot                            float64\n",
      "num_failed_logins              float64\n",
      "num_compromised                float64\n",
      "root_shell                     float64\n",
      "su_attempted                   float64\n",
      "num_root                       float64\n",
      "num_file_creations             float64\n",
      "num_shells                     float64\n",
      "num_access_files               float64\n",
      "count                          float64\n",
      "srv_count                      float64\n",
      "serror_rate                    float64\n",
      "srv_serror_rate                float64\n",
      "rerror_rate                    float64\n",
      "srv_rerror_rate                float64\n",
      "same_srv_rate                  float64\n",
      "diff_srv_rate                  float64\n",
      "srv_diff_host_rate             float64\n",
      "dst_host_count                 float64\n",
      "dst_host_srv_count             float64\n",
      "dst_host_same_srv_rate         float64\n",
      "dst_host_diff_srv_rate         float64\n",
      "dst_host_same_src_port_rate    float64\n",
      "dst_host_srv_diff_host_rate    float64\n",
      "dst_host_serror_rate           float64\n",
      "dst_host_srv_serror_rate       float64\n",
      "dst_host_rerror_rate           float64\n",
      "dst_host_srv_rerror_rate       float64\n",
      "outcome                         object\n",
      "difficulty_rating                int64\n",
      "protocol_type-icmp               uint8\n",
      "protocol_type-tcp                uint8\n",
      "protocol_type-udp                uint8\n",
      "service-IRC                      uint8\n",
      "service-X11                      uint8\n",
      "service-Z39_50                   uint8\n",
      "service-aol                      uint8\n",
      "service-auth                     uint8\n",
      "service-bgp                      uint8\n",
      "service-courier                  uint8\n",
      "service-csnet_ns                 uint8\n",
      "service-ctf                      uint8\n",
      "service-daytime                  uint8\n",
      "service-discard                  uint8\n",
      "service-domain                   uint8\n",
      "service-domain_u                 uint8\n",
      "service-echo                     uint8\n",
      "service-eco_i                    uint8\n",
      "service-ecr_i                    uint8\n",
      "service-efs                      uint8\n",
      "service-exec                     uint8\n",
      "service-finger                   uint8\n",
      "service-ftp                      uint8\n",
      "service-ftp_data                 uint8\n",
      "service-gopher                   uint8\n",
      "service-harvest                  uint8\n",
      "service-hostnames                uint8\n",
      "service-http                     uint8\n",
      "service-http_2784                uint8\n",
      "service-http_443                 uint8\n",
      "service-http_8001                uint8\n",
      "service-imap4                    uint8\n",
      "service-iso_tsap                 uint8\n",
      "service-klogin                   uint8\n",
      "service-kshell                   uint8\n",
      "service-ldap                     uint8\n",
      "service-link                     uint8\n",
      "service-login                    uint8\n",
      "service-mtp                      uint8\n",
      "service-name                     uint8\n",
      "service-netbios_dgm              uint8\n",
      "service-netbios_ns               uint8\n",
      "service-netbios_ssn              uint8\n",
      "service-netstat                  uint8\n",
      "service-nnsp                     uint8\n",
      "service-nntp                     uint8\n",
      "service-ntp_u                    uint8\n",
      "service-other                    uint8\n",
      "service-pm_dump                  uint8\n",
      "service-pop_2                    uint8\n",
      "service-pop_3                    uint8\n",
      "service-printer                  uint8\n",
      "service-private                  uint8\n",
      "service-red_i                    uint8\n",
      "service-remote_job               uint8\n",
      "service-rje                      uint8\n",
      "service-shell                    uint8\n",
      "service-smtp                     uint8\n",
      "service-sql_net                  uint8\n",
      "service-ssh                      uint8\n",
      "service-sunrpc                   uint8\n",
      "service-supdup                   uint8\n",
      "service-systat                   uint8\n",
      "service-telnet                   uint8\n",
      "service-tftp_u                   uint8\n",
      "service-tim_i                    uint8\n",
      "service-time                     uint8\n",
      "service-urh_i                    uint8\n",
      "service-urp_i                    uint8\n",
      "service-uucp                     uint8\n",
      "service-uucp_path                uint8\n",
      "service-vmnet                    uint8\n",
      "service-whois                    uint8\n",
      "flag-OTH                         uint8\n",
      "flag-REJ                         uint8\n",
      "flag-RSTO                        uint8\n",
      "flag-RSTOS0                      uint8\n",
      "flag-RSTR                        uint8\n",
      "flag-S0                          uint8\n",
      "flag-S1                          uint8\n",
      "flag-S2                          uint8\n",
      "flag-S3                          uint8\n",
      "flag-SF                          uint8\n",
      "flag-SH                          uint8\n",
      "land-0                           uint8\n",
      "land-1                           uint8\n",
      "logged_in-0                      uint8\n",
      "logged_in-1                      uint8\n",
      "is_host_login-0                  uint8\n",
      "is_host_login-1                  uint8\n",
      "is_guest_login-0                 uint8\n",
      "is_guest_login-1                 uint8\n",
      "dtype: object\n"
     ]
    }
   ],
   "source": [
    "pd.set_option('display.max_rows', 200)\n",
    "print(df.dtypes)"
   ]
  },
  {
   "cell_type": "code",
   "execution_count": 49,
   "metadata": {},
   "outputs": [
    {
     "data": {
      "text/plain": [
       "0     normal\n",
       "1     normal\n",
       "2    neptune\n",
       "3     normal\n",
       "4     normal\n",
       "Name: outcome, dtype: object"
      ]
     },
     "execution_count": 49,
     "metadata": {},
     "output_type": "execute_result"
    }
   ],
   "source": [
    "from sklearn.preprocessing import StandardScaler\n",
    "\n",
    "df['outcome'].head()"
   ]
  },
  {
   "cell_type": "code",
   "execution_count": 50,
   "metadata": {},
   "outputs": [],
   "source": [
    "x_df = df.drop(['outcome'], axis=1)"
   ]
  },
  {
   "cell_type": "code",
   "execution_count": 51,
   "metadata": {},
   "outputs": [],
   "source": [
    "x_df = StandardScaler().fit_transform(x_df)"
   ]
  },
  {
   "cell_type": "code",
   "execution_count": 52,
   "metadata": {},
   "outputs": [
    {
     "data": {
      "text/plain": [
       "array([[-0.11024922, -0.0076786 , -0.00491864, ..., -0.00281749,\n",
       "         0.09753094, -0.09753094],\n",
       "       [-0.11024922, -0.00773737, -0.00491864, ..., -0.00281749,\n",
       "         0.09753094, -0.09753094],\n",
       "       [-0.11024922, -0.00776224, -0.00491864, ..., -0.00281749,\n",
       "         0.09753094, -0.09753094],\n",
       "       ...,\n",
       "       [-0.11024922, -0.00776224, -0.00491864, ..., -0.00281749,\n",
       "         0.09753094, -0.09753094],\n",
       "       [-0.11024922, -0.00776224, -0.00491864, ..., -0.00281749,\n",
       "         0.09753094, -0.09753094],\n",
       "       [-0.11024922, -0.00776224, -0.00491864, ..., -0.00281749,\n",
       "         0.09753094, -0.09753094]])"
      ]
     },
     "execution_count": 52,
     "metadata": {},
     "output_type": "execute_result"
    }
   ],
   "source": [
    "x_df[:10]"
   ]
  },
  {
   "cell_type": "code",
   "execution_count": 53,
   "metadata": {},
   "outputs": [],
   "source": [
    "from sklearn.decomposition import PCA\n",
    "\n",
    "pca = PCA(n_components=2)\n",
    "principalComponents = pca.fit_transform(x_df)\n",
    "principalDf = pd.DataFrame(data = principalComponents\n",
    "             , columns = ['principal component 1', 'principal component 2'])\n",
    "\n"
   ]
  },
  {
   "cell_type": "code",
   "execution_count": 54,
   "metadata": {},
   "outputs": [
    {
     "data": {
      "text/html": [
       "<div>\n",
       "<style scoped>\n",
       "    .dataframe tbody tr th:only-of-type {\n",
       "        vertical-align: middle;\n",
       "    }\n",
       "\n",
       "    .dataframe tbody tr th {\n",
       "        vertical-align: top;\n",
       "    }\n",
       "\n",
       "    .dataframe thead th {\n",
       "        text-align: right;\n",
       "    }\n",
       "</style>\n",
       "<table border=\"1\" class=\"dataframe\">\n",
       "  <thead>\n",
       "    <tr style=\"text-align: right;\">\n",
       "      <th></th>\n",
       "      <th>principal component 1</th>\n",
       "      <th>principal component 2</th>\n",
       "    </tr>\n",
       "  </thead>\n",
       "  <tbody>\n",
       "    <tr>\n",
       "      <th>0</th>\n",
       "      <td>-0.796048</td>\n",
       "      <td>-0.073914</td>\n",
       "    </tr>\n",
       "    <tr>\n",
       "      <th>1</th>\n",
       "      <td>0.170528</td>\n",
       "      <td>1.947454</td>\n",
       "    </tr>\n",
       "    <tr>\n",
       "      <th>2</th>\n",
       "      <td>4.386339</td>\n",
       "      <td>-1.834882</td>\n",
       "    </tr>\n",
       "  </tbody>\n",
       "</table>\n",
       "</div>"
      ],
      "text/plain": [
       "   principal component 1  principal component 2\n",
       "0              -0.796048              -0.073914\n",
       "1               0.170528               1.947454\n",
       "2               4.386339              -1.834882"
      ]
     },
     "execution_count": 54,
     "metadata": {},
     "output_type": "execute_result"
    }
   ],
   "source": [
    "len(principalDf)\n",
    "principalDf[:3]"
   ]
  },
  {
   "cell_type": "code",
   "execution_count": 55,
   "metadata": {},
   "outputs": [
    {
     "data": {
      "image/png": "[encoded data removed]",
      "text/plain": [
       "<Figure size 360x360 with 6 Axes>"
      ]
     },
     "metadata": {
      "needs_background": "light"
     },
     "output_type": "display_data"
    }
   ],
   "source": [
    "import seaborn as sns\n",
    "g = sns.pairplot(principalDf)"
   ]
  },
  {
   "cell_type": "code",
   "execution_count": 56,
   "metadata": {},
   "outputs": [],
   "source": [
    "from sklearn.cluster import KMeans\n",
    "km = KMeans(n_clusters = 2)\n",
    "km.fit(principalDf)\n",
    "y_kmeans = km.predict(principalDf)"
   ]
  },
  {
   "cell_type": "code",
   "execution_count": null,
   "metadata": {},
   "outputs": [],
   "source": []
  },
  {
   "cell_type": "code",
   "execution_count": null,
   "metadata": {},
   "outputs": [],
   "source": []
  },
  {
   "cell_type": "code",
   "execution_count": 57,
   "metadata": {},
   "outputs": [
    {
     "data": {
      "text/plain": [
       "<matplotlib.legend.Legend at 0x1c100cd54a8>"
      ]
     },
     "execution_count": 57,
     "metadata": {},
     "output_type": "execute_result"
    },
    {
     "data": {
      "image/png": "[encoded data removed]",
      "text/plain": [
       "<Figure size 432x288 with 1 Axes>"
      ]
     },
     "metadata": {
      "needs_background": "light"
     },
     "output_type": "display_data"
    }
   ],
   "source": [
    "import matplotlib.pyplot as plt\n",
    "\n",
    "scatter = plt.scatter(principalDf['principal component 1'], principalDf['principal component 2'], c = y_kmeans, cmap = 'viridis')\n",
    "centers = np.array(km.cluster_centers_)\n",
    "plt.scatter(centers[:,0], centers[:,1], marker=\"x\", color='r', label = 'KMeansCluster centroids')\n",
    "plt.legend(loc=\"upper left\")"
   ]
  },
  {
   "cell_type": "code",
   "execution_count": 58,
   "metadata": {},
   "outputs": [],
   "source": [
    "# Above we see the result of splitting the dataset into 2 clusters using KMeans Clusters.\n",
    "# On the left is normal data, on the right is anomaly data."
   ]
  },
  {
   "cell_type": "code",
   "execution_count": 59,
   "metadata": {},
   "outputs": [
    {
     "name": "stdout",
     "output_type": "stream",
     "text": [
      "[[-2.3557213  -0.17263829]\n",
      " [ 3.87200277  0.28375849]]\n",
      "\n"
     ]
    }
   ],
   "source": [
    "print(km.cluster_centers_)\n",
    "print()"
   ]
  },
  {
   "cell_type": "code",
   "execution_count": 60,
   "metadata": {},
   "outputs": [
    {
     "name": "stdout",
     "output_type": "stream",
     "text": [
      "actual percentage of outcome classified as normal 0.5345828074269883 %\n"
     ]
    }
   ],
   "source": [
    "print('actual percentage of outcome classified as normal', (df.outcome == 'normal').sum() / len(df['outcome']), '%')\n"
   ]
  },
  {
   "cell_type": "code",
   "execution_count": 61,
   "metadata": {},
   "outputs": [],
   "source": [
    "#check our results by plotting just the \"normal\" results for the pca data"
   ]
  },
  {
   "cell_type": "code",
   "execution_count": 62,
   "metadata": {},
   "outputs": [
    {
     "name": "stdout",
     "output_type": "stream",
     "text": [
      "[0 0 1 0 0 1 1 1 1 1]\n"
     ]
    }
   ],
   "source": [
    "print(y_kmeans[:10])\n"
   ]
  },
  {
   "cell_type": "code",
   "execution_count": 63,
   "metadata": {},
   "outputs": [
    {
     "name": "stdout",
     "output_type": "stream",
     "text": [
      "0     normal\n",
      "1     normal\n",
      "2    neptune\n",
      "3     normal\n",
      "4     normal\n",
      "5    neptune\n",
      "6    neptune\n",
      "7    neptune\n",
      "8    neptune\n",
      "9    neptune\n",
      "Name: outcome, dtype: object\n"
     ]
    }
   ],
   "source": [
    "print(df['outcome'].head(10))"
   ]
  },
  {
   "cell_type": "code",
   "execution_count": 64,
   "metadata": {},
   "outputs": [],
   "source": [
    "values = [(1, 0)[ i[1]['outcome'] == 'normal' ] for i in df.iterrows()]"
   ]
  },
  {
   "cell_type": "code",
   "execution_count": 65,
   "metadata": {},
   "outputs": [
    {
     "data": {
      "text/plain": [
       "[0, 0, 1, 0, 0, 1, 1, 1, 1, 1]"
      ]
     },
     "execution_count": 65,
     "metadata": {},
     "output_type": "execute_result"
    }
   ],
   "source": [
    "values[:10]"
   ]
  },
  {
   "cell_type": "code",
   "execution_count": 66,
   "metadata": {},
   "outputs": [
    {
     "data": {
      "text/plain": [
       "125973"
      ]
     },
     "execution_count": 66,
     "metadata": {},
     "output_type": "execute_result"
    }
   ],
   "source": [
    "len(values)"
   ]
  },
  {
   "cell_type": "code",
   "execution_count": 67,
   "metadata": {},
   "outputs": [
    {
     "data": {
      "text/plain": [
       "125973"
      ]
     },
     "execution_count": 67,
     "metadata": {},
     "output_type": "execute_result"
    }
   ],
   "source": [
    "len(y_kmeans)"
   ]
  },
  {
   "cell_type": "code",
   "execution_count": 68,
   "metadata": {},
   "outputs": [],
   "source": [
    "match_count = 0\n",
    "for i in values:\n",
    "    if i == y_kmeans[i]:\n",
    "        match_count += 1"
   ]
  },
  {
   "cell_type": "code",
   "execution_count": 69,
   "metadata": {},
   "outputs": [
    {
     "name": "stdout",
     "output_type": "stream",
     "text": [
      "67343\n"
     ]
    }
   ],
   "source": [
    "print(match_count)"
   ]
  },
  {
   "cell_type": "code",
   "execution_count": 70,
   "metadata": {},
   "outputs": [],
   "source": [
    "true_ones = 0\n",
    "for i in values:\n",
    "    if i == 1:\n",
    "        true_ones += 1"
   ]
  },
  {
   "cell_type": "code",
   "execution_count": 71,
   "metadata": {},
   "outputs": [
    {
     "name": "stdout",
     "output_type": "stream",
     "text": [
      "58630\n"
     ]
    }
   ],
   "source": [
    "print(true_ones)"
   ]
  },
  {
   "cell_type": "code",
   "execution_count": 72,
   "metadata": {},
   "outputs": [],
   "source": [
    "comparison_df = pd.DataFrame()\n",
    "comparison_df['normal_binary_encoded'] = values"
   ]
  },
  {
   "cell_type": "code",
   "execution_count": 73,
   "metadata": {},
   "outputs": [],
   "source": [
    "comparison_df['KMeans_predicted'] = y_kmeans"
   ]
  },
  {
   "cell_type": "code",
   "execution_count": 74,
   "metadata": {},
   "outputs": [
    {
     "name": "stdout",
     "output_type": "stream",
     "text": [
      "0    0\n",
      "1    0\n",
      "2    1\n",
      "3    0\n",
      "4    0\n",
      "5    1\n",
      "6    1\n",
      "7    1\n",
      "8    1\n",
      "9    1\n",
      "Name: KMeans_predicted, dtype: int32\n"
     ]
    }
   ],
   "source": [
    "print(comparison_df['KMeans_predicted'].head(10))"
   ]
  },
  {
   "cell_type": "code",
   "execution_count": 75,
   "metadata": {},
   "outputs": [
    {
     "name": "stdout",
     "output_type": "stream",
     "text": [
      "False\n"
     ]
    }
   ],
   "source": [
    "print(comparison_df['normal_binary_encoded'].equals(comparison_df['KMeans_predicted']))"
   ]
  },
  {
   "cell_type": "code",
   "execution_count": 76,
   "metadata": {},
   "outputs": [
    {
     "name": "stdout",
     "output_type": "stream",
     "text": [
      "0    0\n",
      "1    0\n",
      "2    1\n",
      "3    0\n",
      "4    0\n",
      "5    1\n",
      "6    1\n",
      "7    1\n",
      "8    1\n",
      "9    1\n",
      "Name: KMeans_predicted, dtype: int32\n"
     ]
    }
   ],
   "source": [
    "print(comparison_df['KMeans_predicted'].head(10))"
   ]
  },
  {
   "cell_type": "code",
   "execution_count": 78,
   "metadata": {},
   "outputs": [
    {
     "name": "stdout",
     "output_type": "stream",
     "text": [
      "114303\n",
      "0.9073611011883499\n"
     ]
    }
   ],
   "source": [
    "match_count = 0\n",
    "for i, row in enumerate(comparison_df['normal_binary_encoded']):\n",
    "#     print(row, comparison_df['KMeans_predicted'][i])\n",
    "    if row == comparison_df['KMeans_predicted'][i]:\n",
    "        match += 1\n",
    "\n",
    "print(match_count)\n",
    "print(match_count / (len(comparison_df['KMeans_predicted'])))\n",
    "    "
   ]
  },
  {
   "cell_type": "code",
   "execution_count": null,
   "metadata": {},
   "outputs": [],
   "source": []
  }
 ],
 "metadata": {
  "kernelspec": {
   "display_name": "Python 3",
   "language": "python",
   "name": "python3"
  },
  "language_info": {
   "codemirror_mode": {
    "name": "ipython",
    "version": 3
   },
   "file_extension": ".py",
   "mimetype": "text/x-python",
   "name": "python",
   "nbconvert_exporter": "python",
   "pygments_lexer": "ipython3",
   "version": "3.6.8"
  }
 },
 "nbformat": 4,
 "nbformat_minor": 2
}
