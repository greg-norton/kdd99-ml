{
 "cells": [
  {
   "cell_type": "code",
   "execution_count": 1,
   "metadata": {},
   "outputs": [],
   "source": [
    "import pandas as pd\n",
    "import tensorflow as tf\n",
    "import numpy as np\n",
    "from sklearn import metrics\n",
    "from tensorflow.keras.utils import get_file\n",
    "from tensorflow.keras.models import Sequential\n",
    "from tensorflow.keras.wrappers.scikit_learn import KerasClassifier\n",
    "from tensorflow.keras.layers import Dense\n",
    "from tensorflow.keras.callbacks import EarlyStopping, LearningRateScheduler\n",
    "from sklearn.model_selection import train_test_split\n",
    "from sklearn.neural_network import MLPClassifier\n",
    "from sklearn.metrics import classification_report, confusion_matrix\n",
    "\n",
    "def get_remote_dataset(URL,header=None):\n",
    "    try:\n",
    "        path = get_file(URL.split('/')[-1], origin=URL)\n",
    "    except:\n",
    "        print('Error downloading remote dataset.')\n",
    "        raise\n",
    "    return pd.read_csv(path, header=header)\n",
    "\n",
    "def get_local_dataset(PATH, header=None):\n",
    "    try:\n",
    "        df = pd.read_csv(PATH,header=header)\n",
    "    except:\n",
    "        print('Error loading local dataset.')\n",
    "        raise\n",
    "    df.dropna(inplace=True,axis=1) # For now, just drop NA's (rows with missing values)\n",
    "    print('Read {} rows.'.format(len(df)))\n",
    "    return df\n",
    "\n",
    "def set_KDD_columns(kdd_df):\n",
    "    kdd_df.columns = [\n",
    "        'duration',\n",
    "        'protocol_type',\n",
    "        'service',\n",
    "        'flag',\n",
    "        'src_bytes',\n",
    "        'dst_bytes',\n",
    "        'land',\n",
    "        'wrong_fragment',\n",
    "        'urgent',\n",
    "        'hot',\n",
    "        'num_failed_logins',\n",
    "        'logged_in',\n",
    "        'num_compromised',\n",
    "        'root_shell',\n",
    "        'su_attempted',\n",
    "        'num_root',\n",
    "        'num_file_creations',\n",
    "        'num_shells',\n",
    "        'num_access_files',\n",
    "        'num_outbound_cmds',\n",
    "        'is_host_login',\n",
    "        'is_guest_login',\n",
    "        'count',\n",
    "        'srv_count',\n",
    "        'serror_rate',\n",
    "        'srv_serror_rate',\n",
    "        'rerror_rate',\n",
    "        'srv_rerror_rate',\n",
    "        'same_srv_rate',\n",
    "        'diff_srv_rate',\n",
    "        'srv_diff_host_rate',\n",
    "        'dst_host_count',\n",
    "        'dst_host_srv_count',\n",
    "        'dst_host_same_srv_rate',\n",
    "        'dst_host_diff_srv_rate',\n",
    "        'dst_host_same_src_port_rate',\n",
    "        'dst_host_srv_diff_host_rate',\n",
    "        'dst_host_serror_rate',\n",
    "        'dst_host_srv_serror_rate',\n",
    "        'dst_host_rerror_rate',\n",
    "        'dst_host_srv_rerror_rate',\n",
    "        'outcome',\n",
    "        'difficulty_rating'\n",
    "    ]\n",
    "    #return kdd_df\n",
    "\n",
    "def set_bin_class(df):\n",
    "    for i, row in df.iterrows():\n",
    "        if row['outcome'].split('.')[0] != 'normal':\n",
    "            df.at[i, 'outcome'] = 'anomaly'\n",
    "\n",
    "def set_multi_class(df):\n",
    "    ### THIS WILL ONLY WORK WITH THE ENTIRE KDD DATASET. WILL NOT WORK WITH NSL-KDD SET!!! ###\n",
    "    ### THIS IS YOUR ONLY WARNING!!!###\n",
    "    DOS_TYPES = ('back','land','neptune','pod','smurf','teardrop')\n",
    "    U2R_TYPES = ('buffer_overflow','loadmodule','perl','rootkit')\n",
    "    R2L_TYPES = ('ftp_write','guess_passwd','imap','multihop','phf','spy','warezclient','warezmaster')\n",
    "    PROBE_TYPES = ('ipsweep','nmap','portsweep','satan')\n",
    "            \n",
    "    for i, row in df.iterrows():\n",
    "        val = 'normal'\n",
    "        old_val = row['outcome'].split('.')[0]\n",
    "        if old_val in DOS_TYPES:\n",
    "            val = 'dos'\n",
    "        elif old_val in U2R_TYPES:\n",
    "            val = 'u2r'\n",
    "        elif old_val in R2L_TYPES:\n",
    "            val = 'r2l'\n",
    "        elif old_val in PROBE_TYPES:\n",
    "            val = 'probe'\n",
    "        df.at[i,'outcome'] = val \n",
    "\n",
    "def encode_zscore(df, name, mean=None, std_dev=None):\n",
    "    '''Encode numeric values as zscore'''\n",
    "    if mean == None:\n",
    "        mean = df[name].mean()\n",
    "    if std_dev == None:\n",
    "        std_dev = df[name].std()\n",
    "    df[name] = (df[name] - mean) / std_dev\n",
    "\n",
    "def encode_text(df, name):\n",
    "    '''Encode text values to binary dummy values (i.e. red,blue is [0,1] or [1,0])'''\n",
    "    dummies = pd.get_dummies(df[name])\n",
    "    for x in dummies.columns:\n",
    "        new_name = f\"{name}-{x}\"\n",
    "        df[new_name] = dummies[x]\n",
    "    df.drop(name, axis=1, inplace=True)\n",
    "\n",
    "def reencode_dataset(df):\n",
    "    '''Takes a KDD pandas dataframe and transforms the data by \n",
    "    changing numeric columns to zscore, and text columns to \n",
    "    dummy values'''\n",
    "\n",
    "    encode_zscore(df, 'duration')\n",
    "    encode_text(df, 'protocol_type')\n",
    "    encode_text(df, 'service')\n",
    "    encode_text(df, 'flag')\n",
    "    encode_zscore(df, 'src_bytes')\n",
    "    encode_zscore(df, 'dst_bytes')\n",
    "    encode_text(df, 'land')\n",
    "    encode_zscore(df, 'wrong_fragment')\n",
    "    encode_zscore(df, 'urgent')\n",
    "    encode_zscore(df, 'hot')\n",
    "    encode_zscore(df, 'num_failed_logins')\n",
    "    encode_text(df, 'logged_in')\n",
    "    encode_zscore(df, 'num_compromised')\n",
    "    encode_zscore(df, 'root_shell')\n",
    "    encode_zscore(df, 'su_attempted')\n",
    "    encode_zscore(df, 'num_root')\n",
    "    encode_zscore(df, 'num_file_creations')\n",
    "    encode_zscore(df, 'num_shells')\n",
    "    encode_zscore(df, 'num_access_files')\n",
    "    encode_zscore(df, 'num_outbound_cmds')\n",
    "    encode_text(df, 'is_host_login')\n",
    "    encode_text(df, 'is_guest_login')\n",
    "    encode_zscore(df, 'count')\n",
    "    encode_zscore(df, 'srv_count')\n",
    "    encode_zscore(df, 'serror_rate')\n",
    "    encode_zscore(df, 'srv_serror_rate')\n",
    "    encode_zscore(df, 'rerror_rate')\n",
    "    encode_zscore(df, 'srv_rerror_rate')\n",
    "    encode_zscore(df, 'same_srv_rate')\n",
    "    encode_zscore(df, 'diff_srv_rate')\n",
    "    encode_zscore(df, 'srv_diff_host_rate')\n",
    "    encode_zscore(df, 'dst_host_count')\n",
    "    encode_zscore(df, 'dst_host_srv_count')\n",
    "    encode_zscore(df, 'dst_host_same_srv_rate')\n",
    "    encode_zscore(df, 'dst_host_diff_srv_rate')\n",
    "    encode_zscore(df, 'dst_host_same_src_port_rate')\n",
    "    encode_zscore(df, 'dst_host_srv_diff_host_rate')\n",
    "    encode_zscore(df, 'dst_host_serror_rate')\n",
    "    encode_zscore(df, 'dst_host_srv_serror_rate')\n",
    "    encode_zscore(df, 'dst_host_rerror_rate')\n",
    "    encode_zscore(df, 'dst_host_srv_rerror_rate')\n",
    "\n",
    "    #return df\n",
    "\n",
    "def generate_training_set(df, num_outcomes,frac=0.1):\n",
    "    '''This doesn't work well right now. FIX ME!!!'''\n",
    "    while True:\n",
    "        df_train = df.sample(frac=frac, replace=False)\n",
    "        dummies = pd.get_dummies(df_train['outcome'])\n",
    "        if len(dummies.columns) != num_outcomes:\n",
    "            continue\n",
    "        x_columns = df_train.columns.drop(['outcome','difficulty_rating'])\n",
    "        x = df_train[x_columns].values\n",
    "        y = dummies.values\n",
    "        break\n",
    "\n",
    "    print(df_train.groupby('outcome')['outcome'].count())\n",
    "    print(df_train.head())\n",
    "    print(df_train.columns)\n",
    "\n",
    "    return x, y\n",
    "\n",
    "def build_classifier(x, y, hidden_layers=[8], activation='relu', batch_size=None, verbose=1):\n",
    "    def baseline_model():\n",
    "        model = Sequential()\n",
    "        for layer in hidden_layers:\n",
    "            model.add(Dense(layer, activation=activation))\n",
    "        model.add(Dense(y.shape[1], activation='softmax'))\n",
    "\n",
    "        model.compile(loss='categorical_crossentropy', optimizer='adam', metrics=['accuracy'])\n",
    "        return model\n",
    "    estimator = KerasClassifier(build_fn=baseline_model, batch_size=batch_size, verbose=verbose)\n",
    "    return estimator\n",
    "\n",
    "def run_tf():\n",
    "    ###acquire and process dataset\n",
    "    df = get_local_dataset('./nslkdd/KDDTest+.txt')\n",
    "    #df_train = get_local_dataset('./nslkdd/KDDTrain+.txt')\n",
    "    set_KDD_columns(df)\n",
    "    reencode_dataset(df)\n",
    "    #set_bin_class(df)\n",
    "    df.dropna(inplace=True, axis=1)\n",
    "    x, y = generate_training_set(df,df['outcome'].nunique(),frac=1.0)\n",
    "\n",
    "    ###build MLP model\n",
    "    estimator = build_classifier(x, y, hidden_layers=[64,64])\n",
    "    x_train, x_test, y_train, y_test = train_test_split(x, y, test_size=0.25, random_state=42)\n",
    "\n",
    "    ###train model\n",
    "    monitor = EarlyStopping(monitor='val_loss', min_delta=1e-3, patience=5, verbose=1, mode='auto')\n",
    "    estimator.fit(x_train,y_train,validation_data=(x_test,y_test),callbacks=[monitor],verbose=1,epochs=100)\n",
    "\n",
    "    ###evaluate model\n",
    "    pred = estimator.predict(x_test)\n",
    "    y_eval = np.argmax(y_test, axis=1)\n",
    "    print(y_eval)\n",
    "    score = metrics.accuracy_score(y_eval, pred)\n",
    "    print(\"Validation score: {}\".format(score))\n",
    "\n",
    "def run_tf_full():\n",
    "    df_test = get_local_dataset('./nslkdd/KDDTest+.txt')\n",
    "    set_KDD_columns(df_test)\n",
    "    reencode_dataset(df_test)\n",
    "    set_bin_class(df_test)\n",
    "    for col in ('service-aol','service-harvest','service-http_2784','service-http_8001','service-red_i','service-urh_i'):\n",
    "        df_test[col] = 0    \n",
    "    df_test.fillna(value=0, inplace=True, axis=1)\n",
    "\n",
    "    x_final, y_final = generate_training_set(df_test, df_test['outcome'].nunique(), frac=1.0)\n",
    "    \n",
    "    df_train = get_local_dataset('./nslkdd/KDDTrain+.txt')\n",
    "    set_KDD_columns(df_train)\n",
    "    reencode_dataset(df_train)\n",
    "    set_bin_class(df_train)\n",
    "    df_train.fillna(value=0, inplace=True, axis=1)\n",
    "\n",
    "    df_test = df_test[df_train.columns] #fixes column ordering (does that matter? probably)\n",
    "    #print(df_test.columns)\n",
    "    #print(df_train.columns)\n",
    "    \n",
    "    x, y = generate_training_set(df_train, df_train['outcome'].nunique(), frac=0.1)\n",
    "\n",
    "    x_train, x_test, y_train, y_test = train_test_split(x, y, test_size=0.25)\n",
    "\n",
    "\n",
    "    #for col in df_train.columns:\n",
    "    #    if col not in df_test.columns:\n",
    "    #        print(col)\n",
    "\n",
    "    estimator = build_classifier(x_train, y_train, hidden_layers=[128,128,128,128,128,128,128,128,128,128])\n",
    "\n",
    "    monitor = EarlyStopping(monitor='val_loss', min_delta=1e-4, patience=5, verbose=1, mode='auto')\n",
    "    \n",
    "    estimator.fit(x_train,y_train,validation_data=(x_test,y_test),callbacks=[monitor],verbose=1,epochs=100)\n",
    "\n",
    "    ###evaluate model\n",
    "    pred = estimator.predict(x_final)\n",
    "    y_eval = np.argmax(y_final, axis=1)\n",
    "    print(y_eval)\n",
    "    score = metrics.accuracy_score(y_eval, pred)\n",
    "    print(\"Validation score: {}\".format(score))\n",
    "\n",
    "def run_sklearn():\n",
    "    df = get_local_dataset('./nslkdd/KDDTrain+.txt')\n",
    "    df = set_KDD_columns(df)\n",
    "    df = reencode_dataset(df)\n",
    "    df.dropna(inplace=True, axis=1)\n",
    "    x, y = generate_training_set(df,df['outcome'].nunique())\n",
    "\n",
    "    x_train, x_test, y_train, y_test = train_test_split(x,y,test_size=0.25, random_state=42)\n",
    "\n",
    "    mlp = MLPClassifier(hidden_layer_sizes=(64,64,),max_iter=50,verbose=True)\n",
    "    mlp.fit(x_train, y_train)\n",
    "\n",
    "    predictions = mlp.predict(x_test)\n",
    "    #print(confusion_matrix(y_test, predictions))\n",
    "    print(classification_report(y_test,predictions))"
   ]
  },
  {
   "cell_type": "code",
   "execution_count": 76,
   "metadata": {
    "scrolled": false
   },
   "outputs": [
    {
     "name": "stdout",
     "output_type": "stream",
     "text": [
      "Read 22544 rows.\n",
      "22544\n",
      "outcome\n",
      "apache2             737\n",
      "back                359\n",
      "buffer_overflow      20\n",
      "ftp_write             3\n",
      "guess_passwd       1231\n",
      "httptunnel          133\n",
      "imap                  1\n",
      "ipsweep             141\n",
      "land                  7\n",
      "loadmodule            2\n",
      "mailbomb            293\n",
      "mscan               996\n",
      "multihop             18\n",
      "named                17\n",
      "neptune            4657\n",
      "nmap                 73\n",
      "normal             9711\n",
      "perl                  2\n",
      "phf                   2\n",
      "pod                  41\n",
      "portsweep           157\n",
      "processtable        685\n",
      "ps                   15\n",
      "rootkit              13\n",
      "saint               319\n",
      "satan               735\n",
      "sendmail             14\n",
      "smurf               665\n",
      "snmpgetattack       178\n",
      "snmpguess           331\n",
      "sqlattack             2\n",
      "teardrop             12\n",
      "udpstorm              2\n",
      "warezmaster         944\n",
      "worm                  2\n",
      "xlock                 9\n",
      "xsnoop                4\n",
      "xterm                13\n",
      "Name: outcome, dtype: int64\n",
      "       duration  src_bytes  dst_bytes  wrong_fragment    urgent       hot  \\\n",
      "15462 -0.152688  -0.021920  -0.092511       -0.059103 -0.019459 -0.113519   \n",
      "9889  -0.155531  -0.021601  -0.081483       -0.059103 -0.019459 -0.113519   \n",
      "9984  -0.155531  -0.021332   0.140060       -0.059103 -0.019459 -0.113519   \n",
      "17539  5.680268  -0.021988  -0.096187       -0.059103 -0.019459 -0.113519   \n",
      "1716  -0.155531  -0.021895  -0.093218       -0.059103 -0.019459 -0.113519   \n",
      "\n",
      "       num_failed_logins  num_compromised  root_shell  su_attempted  ...  \\\n",
      "15462          -0.143996        -0.016493   -0.049452     -0.012637  ...   \n",
      "9889           -0.143996        -0.016493   -0.049452     -0.012637  ...   \n",
      "9984           -0.143996        -0.016493   -0.049452     -0.012637  ...   \n",
      "17539          -0.143996        -0.016493   -0.049452     -0.012637  ...   \n",
      "1716           -0.143996        -0.016493   -0.049452     -0.012637  ...   \n",
      "\n",
      "       flag-SF  flag-SH  land-0  land-1  logged_in-0  logged_in-1  \\\n",
      "15462        1        0       1       0            0            1   \n",
      "9889         1        0       1       0            0            1   \n",
      "9984         1        0       1       0            0            1   \n",
      "17539        1        0       1       0            1            0   \n",
      "1716         1        0       1       0            1            0   \n",
      "\n",
      "       is_host_login-0  is_host_login-1  is_guest_login-0  is_guest_login-1  \n",
      "15462                1                0                 1                 0  \n",
      "9889                 1                0                 1                 0  \n",
      "9984                 1                0                 1                 0  \n",
      "17539                1                0                 1                 0  \n",
      "1716                 1                0                 1                 0  \n",
      "\n",
      "[5 rows x 121 columns]\n",
      "Index(['duration', 'src_bytes', 'dst_bytes', 'wrong_fragment', 'urgent', 'hot',\n",
      "       'num_failed_logins', 'num_compromised', 'root_shell', 'su_attempted',\n",
      "       ...\n",
      "       'flag-SF', 'flag-SH', 'land-0', 'land-1', 'logged_in-0', 'logged_in-1',\n",
      "       'is_host_login-0', 'is_host_login-1', 'is_guest_login-0',\n",
      "       'is_guest_login-1'],\n",
      "      dtype='object', length=121)\n"
     ]
    }
   ],
   "source": [
    "from sklearn.cluster import KMeans\n",
    "\n",
    "#df = get_local_dataset('./nslkdd/KDDTrain+.txt')\n",
    "df = get_local_dataset('./nslkdd/KDDTest+.txt')\n",
    "print(len(df))\n",
    "complete_df = df\n",
    "set_KDD_columns(df)\n",
    "#set_KDD_columns(df2)\n",
    "#set_bin_class(df)\n",
    "control = df\n",
    "reencode_dataset(df)\n",
    "#reencode_dataset(df2)\n",
    "\n",
    "df.dropna(inplace=True, axis=1)\n",
    "\n",
    "x, y = generate_training_set(df,df['outcome'].nunique(), frac=1.0)\n",
    "#x2, y2 = generate_training_set(df2, df2['outcome'].nunique(), frac=1.0)\n",
    "\n",
    "todrop = []\n",
    "for outcome in df2['outcome'].unique():\n",
    "    if outcome not in df['outcome'].unique():\n",
    "        todrop.append(outcome)\n",
    "\n",
    "#print(len(df2))\n",
    "#for col in todrop:\n",
    "#    df2.drop(col, axis=1, inplace=True)\n",
    "#print(len(df2))\n",
    "#model = KMeans().fit(x)\n"
   ]
  },
  {
   "cell_type": "code",
   "execution_count": 77,
   "metadata": {},
   "outputs": [],
   "source": [
    "# import seaborn as sns\n",
    "# sns.set(style='ticks')\n",
    "\n",
    "# fig = sns.pairplot(df, vars = [], hue='outcome', height=2, aspect=1, dropna=True)"
   ]
  },
  {
   "cell_type": "code",
   "execution_count": 78,
   "metadata": {
    "scrolled": true
   },
   "outputs": [
    {
     "data": {
      "text/html": [
       "<div>\n",
       "<style scoped>\n",
       "    .dataframe tbody tr th:only-of-type {\n",
       "        vertical-align: middle;\n",
       "    }\n",
       "\n",
       "    .dataframe tbody tr th {\n",
       "        vertical-align: top;\n",
       "    }\n",
       "\n",
       "    .dataframe thead th {\n",
       "        text-align: right;\n",
       "    }\n",
       "</style>\n",
       "<table border=\"1\" class=\"dataframe\">\n",
       "  <thead>\n",
       "    <tr style=\"text-align: right;\">\n",
       "      <th></th>\n",
       "      <th>duration</th>\n",
       "      <th>src_bytes</th>\n",
       "      <th>dst_bytes</th>\n",
       "      <th>wrong_fragment</th>\n",
       "      <th>urgent</th>\n",
       "      <th>hot</th>\n",
       "      <th>num_failed_logins</th>\n",
       "      <th>num_compromised</th>\n",
       "      <th>root_shell</th>\n",
       "      <th>su_attempted</th>\n",
       "      <th>...</th>\n",
       "      <th>flag-SF</th>\n",
       "      <th>flag-SH</th>\n",
       "      <th>land-0</th>\n",
       "      <th>land-1</th>\n",
       "      <th>logged_in-0</th>\n",
       "      <th>logged_in-1</th>\n",
       "      <th>is_host_login-0</th>\n",
       "      <th>is_host_login-1</th>\n",
       "      <th>is_guest_login-0</th>\n",
       "      <th>is_guest_login-1</th>\n",
       "    </tr>\n",
       "  </thead>\n",
       "  <tbody>\n",
       "    <tr>\n",
       "      <th>count</th>\n",
       "      <td>2.254400e+04</td>\n",
       "      <td>2.254400e+04</td>\n",
       "      <td>2.254400e+04</td>\n",
       "      <td>2.254400e+04</td>\n",
       "      <td>2.254400e+04</td>\n",
       "      <td>2.254400e+04</td>\n",
       "      <td>2.254400e+04</td>\n",
       "      <td>2.254400e+04</td>\n",
       "      <td>2.254400e+04</td>\n",
       "      <td>2.254400e+04</td>\n",
       "      <td>...</td>\n",
       "      <td>22544.000000</td>\n",
       "      <td>22544.000000</td>\n",
       "      <td>22544.000000</td>\n",
       "      <td>22544.000000</td>\n",
       "      <td>22544.000000</td>\n",
       "      <td>22544.000000</td>\n",
       "      <td>22544.000000</td>\n",
       "      <td>22544.000000</td>\n",
       "      <td>22544.000000</td>\n",
       "      <td>22544.000000</td>\n",
       "    </tr>\n",
       "    <tr>\n",
       "      <th>mean</th>\n",
       "      <td>2.269299e-17</td>\n",
       "      <td>3.151804e-19</td>\n",
       "      <td>6.146018e-18</td>\n",
       "      <td>1.765010e-17</td>\n",
       "      <td>-6.303608e-19</td>\n",
       "      <td>-5.673248e-18</td>\n",
       "      <td>-4.097345e-18</td>\n",
       "      <td>-3.151804e-19</td>\n",
       "      <td>2.316576e-17</td>\n",
       "      <td>-5.673248e-18</td>\n",
       "      <td>...</td>\n",
       "      <td>0.659821</td>\n",
       "      <td>0.003238</td>\n",
       "      <td>0.999689</td>\n",
       "      <td>0.000311</td>\n",
       "      <td>0.557798</td>\n",
       "      <td>0.442202</td>\n",
       "      <td>0.999512</td>\n",
       "      <td>0.000488</td>\n",
       "      <td>0.971567</td>\n",
       "      <td>0.028433</td>\n",
       "    </tr>\n",
       "    <tr>\n",
       "      <th>std</th>\n",
       "      <td>1.000000e+00</td>\n",
       "      <td>1.000000e+00</td>\n",
       "      <td>1.000000e+00</td>\n",
       "      <td>1.000000e+00</td>\n",
       "      <td>1.000000e+00</td>\n",
       "      <td>1.000000e+00</td>\n",
       "      <td>1.000000e+00</td>\n",
       "      <td>1.000000e+00</td>\n",
       "      <td>1.000000e+00</td>\n",
       "      <td>1.000000e+00</td>\n",
       "      <td>...</td>\n",
       "      <td>0.473780</td>\n",
       "      <td>0.056813</td>\n",
       "      <td>0.017619</td>\n",
       "      <td>0.017619</td>\n",
       "      <td>0.496659</td>\n",
       "      <td>0.496659</td>\n",
       "      <td>0.022084</td>\n",
       "      <td>0.022084</td>\n",
       "      <td>0.166211</td>\n",
       "      <td>0.166211</td>\n",
       "    </tr>\n",
       "    <tr>\n",
       "      <th>min</th>\n",
       "      <td>-1.555306e-01</td>\n",
       "      <td>-2.198762e-02</td>\n",
       "      <td>-9.689382e-02</td>\n",
       "      <td>-5.910263e-02</td>\n",
       "      <td>-1.945882e-02</td>\n",
       "      <td>-1.135186e-01</td>\n",
       "      <td>-1.439958e-01</td>\n",
       "      <td>-1.649319e-02</td>\n",
       "      <td>-4.945232e-02</td>\n",
       "      <td>-1.263749e-02</td>\n",
       "      <td>...</td>\n",
       "      <td>0.000000</td>\n",
       "      <td>0.000000</td>\n",
       "      <td>0.000000</td>\n",
       "      <td>0.000000</td>\n",
       "      <td>0.000000</td>\n",
       "      <td>0.000000</td>\n",
       "      <td>0.000000</td>\n",
       "      <td>0.000000</td>\n",
       "      <td>0.000000</td>\n",
       "      <td>0.000000</td>\n",
       "    </tr>\n",
       "    <tr>\n",
       "      <th>25%</th>\n",
       "      <td>-1.555306e-01</td>\n",
       "      <td>-2.198762e-02</td>\n",
       "      <td>-9.689382e-02</td>\n",
       "      <td>-5.910263e-02</td>\n",
       "      <td>-1.945882e-02</td>\n",
       "      <td>-1.135186e-01</td>\n",
       "      <td>-1.439958e-01</td>\n",
       "      <td>-1.649319e-02</td>\n",
       "      <td>-4.945232e-02</td>\n",
       "      <td>-1.263749e-02</td>\n",
       "      <td>...</td>\n",
       "      <td>0.000000</td>\n",
       "      <td>0.000000</td>\n",
       "      <td>1.000000</td>\n",
       "      <td>0.000000</td>\n",
       "      <td>0.000000</td>\n",
       "      <td>0.000000</td>\n",
       "      <td>1.000000</td>\n",
       "      <td>0.000000</td>\n",
       "      <td>1.000000</td>\n",
       "      <td>0.000000</td>\n",
       "    </tr>\n",
       "    <tr>\n",
       "      <th>50%</th>\n",
       "      <td>-1.555306e-01</td>\n",
       "      <td>-2.187341e-02</td>\n",
       "      <td>-9.472598e-02</td>\n",
       "      <td>-5.910263e-02</td>\n",
       "      <td>-1.945882e-02</td>\n",
       "      <td>-1.135186e-01</td>\n",
       "      <td>-1.439958e-01</td>\n",
       "      <td>-1.649319e-02</td>\n",
       "      <td>-4.945232e-02</td>\n",
       "      <td>-1.263749e-02</td>\n",
       "      <td>...</td>\n",
       "      <td>1.000000</td>\n",
       "      <td>0.000000</td>\n",
       "      <td>1.000000</td>\n",
       "      <td>0.000000</td>\n",
       "      <td>1.000000</td>\n",
       "      <td>0.000000</td>\n",
       "      <td>1.000000</td>\n",
       "      <td>0.000000</td>\n",
       "      <td>1.000000</td>\n",
       "      <td>0.000000</td>\n",
       "    </tr>\n",
       "    <tr>\n",
       "      <th>75%</th>\n",
       "      <td>-1.555306e-01</td>\n",
       "      <td>-2.138058e-02</td>\n",
       "      <td>-6.857055e-02</td>\n",
       "      <td>-5.910263e-02</td>\n",
       "      <td>-1.945882e-02</td>\n",
       "      <td>-1.135186e-01</td>\n",
       "      <td>-1.439958e-01</td>\n",
       "      <td>-1.649319e-02</td>\n",
       "      <td>-4.945232e-02</td>\n",
       "      <td>-1.263749e-02</td>\n",
       "      <td>...</td>\n",
       "      <td>1.000000</td>\n",
       "      <td>0.000000</td>\n",
       "      <td>1.000000</td>\n",
       "      <td>0.000000</td>\n",
       "      <td>1.000000</td>\n",
       "      <td>1.000000</td>\n",
       "      <td>1.000000</td>\n",
       "      <td>0.000000</td>\n",
       "      <td>1.000000</td>\n",
       "      <td>0.000000</td>\n",
       "    </tr>\n",
       "    <tr>\n",
       "      <th>max</th>\n",
       "      <td>4.085922e+01</td>\n",
       "      <td>1.328618e+02</td>\n",
       "      <td>6.333249e+01</td>\n",
       "      <td>2.097894e+01</td>\n",
       "      <td>8.223296e+01</td>\n",
       "      <td>1.086725e+02</td>\n",
       "      <td>2.646453e+01</td>\n",
       "      <td>1.094806e+02</td>\n",
       "      <td>2.022060e+01</td>\n",
       "      <td>9.495388e+01</td>\n",
       "      <td>...</td>\n",
       "      <td>1.000000</td>\n",
       "      <td>1.000000</td>\n",
       "      <td>1.000000</td>\n",
       "      <td>1.000000</td>\n",
       "      <td>1.000000</td>\n",
       "      <td>1.000000</td>\n",
       "      <td>1.000000</td>\n",
       "      <td>1.000000</td>\n",
       "      <td>1.000000</td>\n",
       "      <td>1.000000</td>\n",
       "    </tr>\n",
       "  </tbody>\n",
       "</table>\n",
       "<p>8 rows × 120 columns</p>\n",
       "</div>"
      ],
      "text/plain": [
       "           duration     src_bytes     dst_bytes  wrong_fragment        urgent  \\\n",
       "count  2.254400e+04  2.254400e+04  2.254400e+04    2.254400e+04  2.254400e+04   \n",
       "mean   2.269299e-17  3.151804e-19  6.146018e-18    1.765010e-17 -6.303608e-19   \n",
       "std    1.000000e+00  1.000000e+00  1.000000e+00    1.000000e+00  1.000000e+00   \n",
       "min   -1.555306e-01 -2.198762e-02 -9.689382e-02   -5.910263e-02 -1.945882e-02   \n",
       "25%   -1.555306e-01 -2.198762e-02 -9.689382e-02   -5.910263e-02 -1.945882e-02   \n",
       "50%   -1.555306e-01 -2.187341e-02 -9.472598e-02   -5.910263e-02 -1.945882e-02   \n",
       "75%   -1.555306e-01 -2.138058e-02 -6.857055e-02   -5.910263e-02 -1.945882e-02   \n",
       "max    4.085922e+01  1.328618e+02  6.333249e+01    2.097894e+01  8.223296e+01   \n",
       "\n",
       "                hot  num_failed_logins  num_compromised    root_shell  \\\n",
       "count  2.254400e+04       2.254400e+04     2.254400e+04  2.254400e+04   \n",
       "mean  -5.673248e-18      -4.097345e-18    -3.151804e-19  2.316576e-17   \n",
       "std    1.000000e+00       1.000000e+00     1.000000e+00  1.000000e+00   \n",
       "min   -1.135186e-01      -1.439958e-01    -1.649319e-02 -4.945232e-02   \n",
       "25%   -1.135186e-01      -1.439958e-01    -1.649319e-02 -4.945232e-02   \n",
       "50%   -1.135186e-01      -1.439958e-01    -1.649319e-02 -4.945232e-02   \n",
       "75%   -1.135186e-01      -1.439958e-01    -1.649319e-02 -4.945232e-02   \n",
       "max    1.086725e+02       2.646453e+01     1.094806e+02  2.022060e+01   \n",
       "\n",
       "       su_attempted  ...       flag-SF       flag-SH        land-0  \\\n",
       "count  2.254400e+04  ...  22544.000000  22544.000000  22544.000000   \n",
       "mean  -5.673248e-18  ...      0.659821      0.003238      0.999689   \n",
       "std    1.000000e+00  ...      0.473780      0.056813      0.017619   \n",
       "min   -1.263749e-02  ...      0.000000      0.000000      0.000000   \n",
       "25%   -1.263749e-02  ...      0.000000      0.000000      1.000000   \n",
       "50%   -1.263749e-02  ...      1.000000      0.000000      1.000000   \n",
       "75%   -1.263749e-02  ...      1.000000      0.000000      1.000000   \n",
       "max    9.495388e+01  ...      1.000000      1.000000      1.000000   \n",
       "\n",
       "             land-1   logged_in-0   logged_in-1  is_host_login-0  \\\n",
       "count  22544.000000  22544.000000  22544.000000     22544.000000   \n",
       "mean       0.000311      0.557798      0.442202         0.999512   \n",
       "std        0.017619      0.496659      0.496659         0.022084   \n",
       "min        0.000000      0.000000      0.000000         0.000000   \n",
       "25%        0.000000      0.000000      0.000000         1.000000   \n",
       "50%        0.000000      1.000000      0.000000         1.000000   \n",
       "75%        0.000000      1.000000      1.000000         1.000000   \n",
       "max        1.000000      1.000000      1.000000         1.000000   \n",
       "\n",
       "       is_host_login-1  is_guest_login-0  is_guest_login-1  \n",
       "count     22544.000000      22544.000000      22544.000000  \n",
       "mean          0.000488          0.971567          0.028433  \n",
       "std           0.022084          0.166211          0.166211  \n",
       "min           0.000000          0.000000          0.000000  \n",
       "25%           0.000000          1.000000          0.000000  \n",
       "50%           0.000000          1.000000          0.000000  \n",
       "75%           0.000000          1.000000          0.000000  \n",
       "max           1.000000          1.000000          1.000000  \n",
       "\n",
       "[8 rows x 120 columns]"
      ]
     },
     "execution_count": 78,
     "metadata": {},
     "output_type": "execute_result"
    }
   ],
   "source": [
    "df.describe()"
   ]
  },
  {
   "cell_type": "code",
   "execution_count": 79,
   "metadata": {},
   "outputs": [
    {
     "data": {
      "text/plain": [
       "array([0, 0, 0, 0, 0, 0, 0, 0, 0, 0, 0, 0, 0, 0, 0, 0, 0, 0, 0, 0, 0, 1,\n",
       "       0, 0, 0, 0, 0, 0, 0, 0, 0, 0, 0, 0, 0, 0, 0, 0], dtype=uint8)"
      ]
     },
     "execution_count": 79,
     "metadata": {},
     "output_type": "execute_result"
    }
   ],
   "source": [
    "y[3553]"
   ]
  },
  {
   "cell_type": "code",
   "execution_count": 80,
   "metadata": {},
   "outputs": [
    {
     "name": "stdout",
     "output_type": "stream",
     "text": [
      "duration                       float64\n",
      "src_bytes                      float64\n",
      "dst_bytes                      float64\n",
      "wrong_fragment                 float64\n",
      "urgent                         float64\n",
      "hot                            float64\n",
      "num_failed_logins              float64\n",
      "num_compromised                float64\n",
      "root_shell                     float64\n",
      "su_attempted                   float64\n",
      "num_root                       float64\n",
      "num_file_creations             float64\n",
      "num_shells                     float64\n",
      "num_access_files               float64\n",
      "count                          float64\n",
      "srv_count                      float64\n",
      "serror_rate                    float64\n",
      "srv_serror_rate                float64\n",
      "rerror_rate                    float64\n",
      "srv_rerror_rate                float64\n",
      "same_srv_rate                  float64\n",
      "diff_srv_rate                  float64\n",
      "srv_diff_host_rate             float64\n",
      "dst_host_count                 float64\n",
      "dst_host_srv_count             float64\n",
      "dst_host_same_srv_rate         float64\n",
      "dst_host_diff_srv_rate         float64\n",
      "dst_host_same_src_port_rate    float64\n",
      "dst_host_srv_diff_host_rate    float64\n",
      "dst_host_serror_rate           float64\n",
      "dst_host_srv_serror_rate       float64\n",
      "dst_host_rerror_rate           float64\n",
      "dst_host_srv_rerror_rate       float64\n",
      "outcome                         object\n",
      "difficulty_rating                int64\n",
      "protocol_type-icmp               uint8\n",
      "protocol_type-tcp                uint8\n",
      "protocol_type-udp                uint8\n",
      "service-IRC                      uint8\n",
      "service-X11                      uint8\n",
      "service-Z39_50                   uint8\n",
      "service-auth                     uint8\n",
      "service-bgp                      uint8\n",
      "service-courier                  uint8\n",
      "service-csnet_ns                 uint8\n",
      "service-ctf                      uint8\n",
      "service-daytime                  uint8\n",
      "service-discard                  uint8\n",
      "service-domain                   uint8\n",
      "service-domain_u                 uint8\n",
      "service-echo                     uint8\n",
      "service-eco_i                    uint8\n",
      "service-ecr_i                    uint8\n",
      "service-efs                      uint8\n",
      "service-exec                     uint8\n",
      "service-finger                   uint8\n",
      "service-ftp                      uint8\n",
      "service-ftp_data                 uint8\n",
      "service-gopher                   uint8\n",
      "service-hostnames                uint8\n",
      "service-http                     uint8\n",
      "service-http_443                 uint8\n",
      "service-imap4                    uint8\n",
      "service-iso_tsap                 uint8\n",
      "service-klogin                   uint8\n",
      "service-kshell                   uint8\n",
      "service-ldap                     uint8\n",
      "service-link                     uint8\n",
      "service-login                    uint8\n",
      "service-mtp                      uint8\n",
      "service-name                     uint8\n",
      "service-netbios_dgm              uint8\n",
      "service-netbios_ns               uint8\n",
      "service-netbios_ssn              uint8\n",
      "service-netstat                  uint8\n",
      "service-nnsp                     uint8\n",
      "service-nntp                     uint8\n",
      "service-ntp_u                    uint8\n",
      "service-other                    uint8\n",
      "service-pm_dump                  uint8\n",
      "service-pop_2                    uint8\n",
      "service-pop_3                    uint8\n",
      "service-printer                  uint8\n",
      "service-private                  uint8\n",
      "service-remote_job               uint8\n",
      "service-rje                      uint8\n",
      "service-shell                    uint8\n",
      "service-smtp                     uint8\n",
      "service-sql_net                  uint8\n",
      "service-ssh                      uint8\n",
      "service-sunrpc                   uint8\n",
      "service-supdup                   uint8\n",
      "service-systat                   uint8\n",
      "service-telnet                   uint8\n",
      "service-tftp_u                   uint8\n",
      "service-tim_i                    uint8\n",
      "service-time                     uint8\n",
      "service-urp_i                    uint8\n",
      "service-uucp                     uint8\n",
      "service-uucp_path                uint8\n",
      "service-vmnet                    uint8\n",
      "service-whois                    uint8\n",
      "flag-OTH                         uint8\n",
      "flag-REJ                         uint8\n",
      "flag-RSTO                        uint8\n",
      "flag-RSTOS0                      uint8\n",
      "flag-RSTR                        uint8\n",
      "flag-S0                          uint8\n",
      "flag-S1                          uint8\n",
      "flag-S2                          uint8\n",
      "flag-S3                          uint8\n",
      "flag-SF                          uint8\n",
      "flag-SH                          uint8\n",
      "land-0                           uint8\n",
      "land-1                           uint8\n",
      "logged_in-0                      uint8\n",
      "logged_in-1                      uint8\n",
      "is_host_login-0                  uint8\n",
      "is_host_login-1                  uint8\n",
      "is_guest_login-0                 uint8\n",
      "is_guest_login-1                 uint8\n",
      "dtype: object\n"
     ]
    }
   ],
   "source": [
    "pd.set_option('display.max_rows', 200)\n",
    "print(df.dtypes)"
   ]
  },
  {
   "cell_type": "code",
   "execution_count": 81,
   "metadata": {},
   "outputs": [
    {
     "data": {
      "text/plain": [
       "0    neptune\n",
       "1    neptune\n",
       "2     normal\n",
       "3      saint\n",
       "4      mscan\n",
       "Name: outcome, dtype: object"
      ]
     },
     "execution_count": 81,
     "metadata": {},
     "output_type": "execute_result"
    }
   ],
   "source": [
    "from sklearn.preprocessing import StandardScaler\n",
    "\n",
    "df['outcome'].head()"
   ]
  },
  {
   "cell_type": "code",
   "execution_count": 82,
   "metadata": {},
   "outputs": [],
   "source": [
    "x_df = df.drop(['outcome'], axis=1)"
   ]
  },
  {
   "cell_type": "code",
   "execution_count": 83,
   "metadata": {},
   "outputs": [],
   "source": [
    "x_df = StandardScaler().fit_transform(x_df)"
   ]
  },
  {
   "cell_type": "code",
   "execution_count": 84,
   "metadata": {},
   "outputs": [
    {
     "data": {
      "text/plain": [
       "array([[-1.55534087e-01, -2.19881116e-02, -9.68959693e-02, ...,\n",
       "        -2.20946351e-02,  1.71071323e-01, -1.71071323e-01],\n",
       "       [-1.55534087e-01, -2.19881116e-02, -9.68959693e-02, ...,\n",
       "        -2.20946351e-02,  1.71071323e-01, -1.71071323e-01],\n",
       "       [-1.54112770e-01,  5.47309946e-03, -9.68959693e-02, ...,\n",
       "        -2.20946351e-02,  1.71071323e-01, -1.71071323e-01],\n",
       "       ...,\n",
       "       [-1.55534087e-01, -2.17152551e-02, -8.86957045e-02, ...,\n",
       "        -2.20946351e-02,  1.71071323e-01, -1.71071323e-01],\n",
       "       [-1.55534087e-01, -2.12964520e-02, -7.48872126e-02, ...,\n",
       "        -2.20946351e-02,  1.71071323e-01, -1.71071323e-01],\n",
       "       [-1.55534087e-01, -2.19331172e-02, -8.94968798e-02, ...,\n",
       "        -2.20946351e-02, -5.84551510e+00,  5.84551510e+00]])"
      ]
     },
     "execution_count": 84,
     "metadata": {},
     "output_type": "execute_result"
    }
   ],
   "source": [
    "x_df[:10]"
   ]
  },
  {
   "cell_type": "code",
   "execution_count": 140,
   "metadata": {},
   "outputs": [],
   "source": [
    "from sklearn.decomposition import PCA\n",
    "\n",
    "pca = PCA(n_components=2)\n",
    "principalComponents = pca.fit_transform(x_df)\n",
    "principalDf = pd.DataFrame(data = principalComponents\n",
    "             , columns = ['principal component 1', 'principal component 2'])\n",
    "\n"
   ]
  },
  {
   "cell_type": "code",
   "execution_count": 115,
   "metadata": {},
   "outputs": [
    {
     "data": {
      "text/html": [
       "<div>\n",
       "<style scoped>\n",
       "    .dataframe tbody tr th:only-of-type {\n",
       "        vertical-align: middle;\n",
       "    }\n",
       "\n",
       "    .dataframe tbody tr th {\n",
       "        vertical-align: top;\n",
       "    }\n",
       "\n",
       "    .dataframe thead th {\n",
       "        text-align: right;\n",
       "    }\n",
       "</style>\n",
       "<table border=\"1\" class=\"dataframe\">\n",
       "  <thead>\n",
       "    <tr style=\"text-align: right;\">\n",
       "      <th></th>\n",
       "      <th>principal component 1</th>\n",
       "      <th>principal component 2</th>\n",
       "    </tr>\n",
       "  </thead>\n",
       "  <tbody>\n",
       "    <tr>\n",
       "      <th>0</th>\n",
       "      <td>1.629281</td>\n",
       "      <td>-0.956724</td>\n",
       "    </tr>\n",
       "    <tr>\n",
       "      <th>1</th>\n",
       "      <td>1.608832</td>\n",
       "      <td>-0.956847</td>\n",
       "    </tr>\n",
       "    <tr>\n",
       "      <th>2</th>\n",
       "      <td>-0.343801</td>\n",
       "      <td>0.079323</td>\n",
       "    </tr>\n",
       "  </tbody>\n",
       "</table>\n",
       "</div>"
      ],
      "text/plain": [
       "   principal component 1  principal component 2\n",
       "0               1.629281              -0.956724\n",
       "1               1.608832              -0.956847\n",
       "2              -0.343801               0.079323"
      ]
     },
     "execution_count": 115,
     "metadata": {},
     "output_type": "execute_result"
    }
   ],
   "source": [
    "len(principalDf)\n",
    "principalDf[:3]"
   ]
  },
  {
   "cell_type": "code",
   "execution_count": 116,
   "metadata": {},
   "outputs": [
    {
     "data": {
      "image/png": "[encoded data removed]",
      "text/plain": [
       "<Figure size 360x360 with 6 Axes>"
      ]
     },
     "metadata": {
      "needs_background": "light"
     },
     "output_type": "display_data"
    }
   ],
   "source": [
    "import seaborn as sns\n",
    "g = sns.pairplot(principalDf)"
   ]
  },
  {
   "cell_type": "code",
   "execution_count": 117,
   "metadata": {},
   "outputs": [],
   "source": [
    "from sklearn.cluster import KMeans\n",
    "km = KMeans(n_clusters = 2)\n",
    "km.fit(principalDf)\n",
    "y_kmeans = km.predict(principalDf)"
   ]
  },
  {
   "cell_type": "code",
   "execution_count": 118,
   "metadata": {},
   "outputs": [
    {
     "name": "stdout",
     "output_type": "stream",
     "text": [
      "9711 9711\n"
     ]
    },
    {
     "data": {
      "text/html": [
       "<div>\n",
       "<style scoped>\n",
       "    .dataframe tbody tr th:only-of-type {\n",
       "        vertical-align: middle;\n",
       "    }\n",
       "\n",
       "    .dataframe tbody tr th {\n",
       "        vertical-align: top;\n",
       "    }\n",
       "\n",
       "    .dataframe thead th {\n",
       "        text-align: right;\n",
       "    }\n",
       "</style>\n",
       "<table border=\"1\" class=\"dataframe\">\n",
       "  <thead>\n",
       "    <tr style=\"text-align: right;\">\n",
       "      <th></th>\n",
       "      <th>principal component 1</th>\n",
       "      <th>principal component 2</th>\n",
       "    </tr>\n",
       "  </thead>\n",
       "  <tbody>\n",
       "    <tr>\n",
       "      <th>2</th>\n",
       "      <td>-0.343801</td>\n",
       "      <td>0.079323</td>\n",
       "    </tr>\n",
       "    <tr>\n",
       "      <th>5</th>\n",
       "      <td>-0.936762</td>\n",
       "      <td>-0.163044</td>\n",
       "    </tr>\n",
       "    <tr>\n",
       "      <th>6</th>\n",
       "      <td>-0.170056</td>\n",
       "      <td>-0.391377</td>\n",
       "    </tr>\n",
       "    <tr>\n",
       "      <th>8</th>\n",
       "      <td>-0.926862</td>\n",
       "      <td>-0.166817</td>\n",
       "    </tr>\n",
       "    <tr>\n",
       "      <th>11</th>\n",
       "      <td>-0.564283</td>\n",
       "      <td>-0.293423</td>\n",
       "    </tr>\n",
       "    <tr>\n",
       "      <th>...</th>\n",
       "      <td>...</td>\n",
       "      <td>...</td>\n",
       "    </tr>\n",
       "    <tr>\n",
       "      <th>22533</th>\n",
       "      <td>-0.965184</td>\n",
       "      <td>-0.175662</td>\n",
       "    </tr>\n",
       "    <tr>\n",
       "      <th>22535</th>\n",
       "      <td>-1.015059</td>\n",
       "      <td>-0.180424</td>\n",
       "    </tr>\n",
       "    <tr>\n",
       "      <th>22539</th>\n",
       "      <td>-0.728394</td>\n",
       "      <td>-0.150484</td>\n",
       "    </tr>\n",
       "    <tr>\n",
       "      <th>22540</th>\n",
       "      <td>-0.914477</td>\n",
       "      <td>-0.171819</td>\n",
       "    </tr>\n",
       "    <tr>\n",
       "      <th>22542</th>\n",
       "      <td>-0.582382</td>\n",
       "      <td>0.076287</td>\n",
       "    </tr>\n",
       "  </tbody>\n",
       "</table>\n",
       "<p>9711 rows × 2 columns</p>\n",
       "</div>"
      ],
      "text/plain": [
       "       principal component 1  principal component 2\n",
       "2                  -0.343801               0.079323\n",
       "5                  -0.936762              -0.163044\n",
       "6                  -0.170056              -0.391377\n",
       "8                  -0.926862              -0.166817\n",
       "11                 -0.564283              -0.293423\n",
       "...                      ...                    ...\n",
       "22533              -0.965184              -0.175662\n",
       "22535              -1.015059              -0.180424\n",
       "22539              -0.728394              -0.150484\n",
       "22540              -0.914477              -0.171819\n",
       "22542              -0.582382               0.076287\n",
       "\n",
       "[9711 rows x 2 columns]"
      ]
     },
     "execution_count": 118,
     "metadata": {},
     "output_type": "execute_result"
    }
   ],
   "source": [
    "#this block prepares a true_normal_df for visualization, so we can compare against the two groups generated by K-Means Clustering\n",
    "true_normal_df = principalDf.copy() #get the PCA1 and PCA2 columns from the principalDf (original df), copy them into a new true_normal_df\n",
    "true_normal_df['outcome'] = df['outcome'] #copy the outcome column from the original dataframe to the true_normal_df\n",
    "true_normal_df = true_normal_df.drop(true_normal_df[true_normal_df.outcome != 'normal'].index) #delete all rows from the true_normal_df that have an outcome that is NOT normal\n",
    "print(len(true_normal_df['outcome']), (true_normal_df.outcome == 'normal').sum()) #proof that every outcome in our table is normal\n",
    "true_normal_df.drop(['outcome'], axis = 1) #finally, drop the outcome column from the true_normal_df, and we are left with PCA1 and PCA2 cols that correspond to the true normal rows, so we can plot and visualize these in the next step"
   ]
  },
  {
   "cell_type": "code",
   "execution_count": 119,
   "metadata": {},
   "outputs": [
    {
     "data": {
      "text/plain": [
       "<matplotlib.legend.Legend at 0x7efbf6709100>"
      ]
     },
     "execution_count": 119,
     "metadata": {},
     "output_type": "execute_result"
    },
    {
     "data": {
      "image/png": "[encoded data removed]",
      "text/plain": [
       "<Figure size 432x288 with 1 Axes>"
      ]
     },
     "metadata": {
      "needs_background": "light"
     },
     "output_type": "display_data"
    }
   ],
   "source": [
    "import matplotlib.pyplot as plt\n",
    "\n",
    "scatter = plt.scatter(principalDf['principal component 1'], principalDf['principal component 2'], c = y_kmeans, cmap = 'viridis')\n",
    "centers = np.array(km.cluster_centers_)\n",
    "plt.scatter(centers[:,0], centers[:,1], marker=\"x\", color='r', label = 'KMeansCluster centroids')\n",
    "plt.legend(loc=\"upper left\")\n",
    "# Below we see the result of splitting the dataset into 2 clusters using KMeans Clusters.\n",
    "# On the left is normal data, on the right is anomaly data"
   ]
  },
  {
   "cell_type": "code",
   "execution_count": 120,
   "metadata": {},
   "outputs": [
    {
     "data": {
      "text/plain": [
       "<matplotlib.legend.Legend at 0x7efbf6b4e670>"
      ]
     },
     "execution_count": 120,
     "metadata": {},
     "output_type": "execute_result"
    },
    {
     "data": {
      "image/png": "[encoded data removed]",
      "text/plain": [
       "<Figure size 432x288 with 1 Axes>"
      ]
     },
     "metadata": {
      "needs_background": "light"
     },
     "output_type": "display_data"
    }
   ],
   "source": [
    "import matplotlib.pyplot as plt\n",
    "\n",
    "scatter = plt.scatter(principalDf['principal component 1'], principalDf['principal component 2'], c = y_kmeans, cmap = 'viridis')\n",
    "centers = np.array(km.cluster_centers_)\n",
    "plt.scatter(true_normal_df['principal component 1'], true_normal_df['principal component 2'], color = 'g', alpha = 0.15)\n",
    "plt.scatter(centers[:,0], centers[:,1], marker=\"x\", color='r', label = 'KMeansCluster centroids')\n",
    "plt.legend(loc=\"upper left\")\n",
    "# Below we see the result of splitting the dataset into 2 clusters using KMeans Clusters.\n",
    "# On the left is normal data, on the right is anomaly data\n",
    "# We can confirm that the left is normal data by overlaying it with the values found in true_normal_df"
   ]
  },
  {
   "cell_type": "code",
   "execution_count": 141,
   "metadata": {},
   "outputs": [
    {
     "data": {
      "text/plain": [
       "array([1, 1, 1, ..., 1, 1, 1], dtype=int32)"
      ]
     },
     "execution_count": 141,
     "metadata": {},
     "output_type": "execute_result"
    }
   ],
   "source": [
    "y_kmeans"
   ]
  },
  {
   "cell_type": "code",
   "execution_count": 121,
   "metadata": {},
   "outputs": [
    {
     "name": "stdout",
     "output_type": "stream",
     "text": [
      "[[ 0.97946211  2.64958571]\n",
      " [-0.11079582 -0.2997186 ]]\n"
     ]
    }
   ],
   "source": [
    "print(km.cluster_centers_)\n"
   ]
  },
  {
   "cell_type": "code",
   "execution_count": 122,
   "metadata": {},
   "outputs": [
    {
     "name": "stdout",
     "output_type": "stream",
     "text": [
      "actual percentage of outcome classified as normal 0.43075762952448543 %\n"
     ]
    }
   ],
   "source": [
    "print('actual percentage of outcome classified as normal', (df.outcome == 'normal').sum() / len(df['outcome']), '%')\n"
   ]
  },
  {
   "cell_type": "code",
   "execution_count": 123,
   "metadata": {},
   "outputs": [],
   "source": [
    "#check our results by plotting just the \"normal\" results for the pca data"
   ]
  },
  {
   "cell_type": "code",
   "execution_count": 124,
   "metadata": {},
   "outputs": [
    {
     "name": "stdout",
     "output_type": "stream",
     "text": [
      "[1 1 1 1 1 1 1 1 1 1]\n"
     ]
    }
   ],
   "source": [
    "print(y_kmeans[:10])\n"
   ]
  },
  {
   "cell_type": "code",
   "execution_count": 125,
   "metadata": {},
   "outputs": [
    {
     "name": "stdout",
     "output_type": "stream",
     "text": [
      "0         neptune\n",
      "1         neptune\n",
      "2          normal\n",
      "3           saint\n",
      "4           mscan\n",
      "5          normal\n",
      "6          normal\n",
      "7    guess_passwd\n",
      "8          normal\n",
      "9    guess_passwd\n",
      "Name: outcome, dtype: object\n"
     ]
    }
   ],
   "source": [
    "print(df['outcome'].head(10))"
   ]
  },
  {
   "cell_type": "code",
   "execution_count": 126,
   "metadata": {},
   "outputs": [],
   "source": [
    "values = [(1, 0)[ i[1]['outcome'] == 'normal' ] for i in df.iterrows()]"
   ]
  },
  {
   "cell_type": "code",
   "execution_count": 127,
   "metadata": {},
   "outputs": [
    {
     "data": {
      "text/plain": [
       "[1, 1, 0, 1, 1, 0, 0, 1, 0, 1]"
      ]
     },
     "execution_count": 127,
     "metadata": {},
     "output_type": "execute_result"
    }
   ],
   "source": [
    "values[:10]"
   ]
  },
  {
   "cell_type": "code",
   "execution_count": 128,
   "metadata": {},
   "outputs": [
    {
     "data": {
      "text/plain": [
       "22544"
      ]
     },
     "execution_count": 128,
     "metadata": {},
     "output_type": "execute_result"
    }
   ],
   "source": [
    "len(values)"
   ]
  },
  {
   "cell_type": "code",
   "execution_count": 129,
   "metadata": {},
   "outputs": [
    {
     "data": {
      "text/plain": [
       "22544"
      ]
     },
     "execution_count": 129,
     "metadata": {},
     "output_type": "execute_result"
    }
   ],
   "source": [
    "len(y_kmeans)"
   ]
  },
  {
   "cell_type": "code",
   "execution_count": 130,
   "metadata": {},
   "outputs": [],
   "source": [
    "match_count = 0\n",
    "for i in values:\n",
    "    if i == y_kmeans[i]:\n",
    "        match_count += 1"
   ]
  },
  {
   "cell_type": "code",
   "execution_count": 131,
   "metadata": {},
   "outputs": [
    {
     "name": "stdout",
     "output_type": "stream",
     "text": [
      "12833\n"
     ]
    }
   ],
   "source": [
    "print(match_count)"
   ]
  },
  {
   "cell_type": "code",
   "execution_count": 132,
   "metadata": {},
   "outputs": [],
   "source": [
    "true_ones = 0\n",
    "for i in values:\n",
    "    if i == 1:\n",
    "        true_ones += 1"
   ]
  },
  {
   "cell_type": "code",
   "execution_count": 133,
   "metadata": {},
   "outputs": [
    {
     "name": "stdout",
     "output_type": "stream",
     "text": [
      "12833\n"
     ]
    }
   ],
   "source": [
    "print(true_ones)"
   ]
  },
  {
   "cell_type": "code",
   "execution_count": 134,
   "metadata": {},
   "outputs": [],
   "source": [
    "comparison_df = pd.DataFrame()\n",
    "comparison_df['normal_binary_encoded'] = values"
   ]
  },
  {
   "cell_type": "code",
   "execution_count": 135,
   "metadata": {},
   "outputs": [],
   "source": [
    "comparison_df['KMeans_predicted'] = y_kmeans"
   ]
  },
  {
   "cell_type": "code",
   "execution_count": 136,
   "metadata": {},
   "outputs": [
    {
     "name": "stdout",
     "output_type": "stream",
     "text": [
      "0    1\n",
      "1    1\n",
      "2    1\n",
      "3    1\n",
      "4    1\n",
      "5    1\n",
      "6    1\n",
      "7    1\n",
      "8    1\n",
      "9    1\n",
      "Name: KMeans_predicted, dtype: int32\n"
     ]
    }
   ],
   "source": [
    "print(comparison_df['KMeans_predicted'].head(10))"
   ]
  },
  {
   "cell_type": "code",
   "execution_count": 137,
   "metadata": {},
   "outputs": [
    {
     "name": "stdout",
     "output_type": "stream",
     "text": [
      "False\n"
     ]
    }
   ],
   "source": [
    "print(comparison_df['normal_binary_encoded'].equals(comparison_df['KMeans_predicted']))"
   ]
  },
  {
   "cell_type": "code",
   "execution_count": 138,
   "metadata": {},
   "outputs": [
    {
     "name": "stdout",
     "output_type": "stream",
     "text": [
      "0    1\n",
      "1    1\n",
      "2    1\n",
      "3    1\n",
      "4    1\n",
      "5    1\n",
      "6    1\n",
      "7    1\n",
      "8    1\n",
      "9    1\n",
      "Name: KMeans_predicted, dtype: int32\n"
     ]
    }
   ],
   "source": [
    "print(comparison_df['KMeans_predicted'].head(10))"
   ]
  },
  {
   "cell_type": "code",
   "execution_count": 139,
   "metadata": {},
   "outputs": [
    {
     "name": "stdout",
     "output_type": "stream",
     "text": [
      "10558\n",
      "0.46832860184528036\n"
     ]
    }
   ],
   "source": [
    "match_count = 0\n",
    "for i, row in enumerate(comparison_df['normal_binary_encoded']):\n",
    "#     print(row, comparison_df['KMeans_predicted'][i])\n",
    "    if row == comparison_df['KMeans_predicted'][i]:\n",
    "        match_count += 1\n",
    "\n",
    "print(match_count)\n",
    "print(match_count / (len(comparison_df['KMeans_predicted'])))\n",
    "    "
   ]
  },
  {
   "cell_type": "code",
   "execution_count": null,
   "metadata": {},
   "outputs": [],
   "source": []
  }
 ],
 "metadata": {
  "kernelspec": {
   "display_name": "Python 3",
   "language": "python",
   "name": "python3"
  },
  "language_info": {
   "codemirror_mode": {
    "name": "ipython",
    "version": 3
   },
   "file_extension": ".py",
   "mimetype": "text/x-python",
   "name": "python",
   "nbconvert_exporter": "python",
   "pygments_lexer": "ipython3",
   "version": "3.8.0"
  }
 },
 "nbformat": 4,
 "nbformat_minor": 2
}
