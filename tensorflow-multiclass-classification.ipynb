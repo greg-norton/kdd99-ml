{
 "cells": [
  {
   "cell_type": "code",
   "execution_count": 1,
   "metadata": {
    "scrolled": true
   },
   "outputs": [],
   "source": [
    "import pandas as pd\n",
    "import tensorflow as tf\n",
    "import os\n",
    "import numpy as np\n",
    "from sklearn import metrics\n",
    "from scipy.stats import zscore\n",
    "from tensorflow.keras.utils import get_file\n",
    "from tensorflow.keras.models import Sequential\n",
    "from tensorflow.keras.layers import Dense\n",
    "from tensorflow.keras.wrappers.scikit_learn import KerasClassifier\n",
    "#from tensorflow.keras.utils import np_utils\n",
    "from sklearn.model_selection import cross_val_score\n",
    "from sklearn.model_selection import KFold\n",
    "from sklearn.preprocessing import LabelEncoder\n",
    "from sklearn.pipeline import Pipeline\n",
    "\n",
    "#tf.debugging.set_log_device_placement(True)"
   ]
  },
  {
   "cell_type": "code",
   "execution_count": 35,
   "metadata": {},
   "outputs": [],
   "source": [
    "# Change me for other classifications!\n",
    "# --------------------------------------------------\n",
    "SCOPE = 'binary'\n",
    "DATASET = 'kdd99'\n",
    "# --------------------------------------------------\n",
    "\n",
    "# Our options to test\n",
    "SCOPES = ('binary', 'categories', 'types')\n",
    "DATASETS = ('kdd99', '10%kdd99', 'nslkdd')"
   ]
  },
  {
   "cell_type": "code",
   "execution_count": 36,
   "metadata": {},
   "outputs": [],
   "source": [
    "'''\n",
    "CONSTANTS & PROGRAM SET UP: \n",
    "To switch between binary (2), categories (5), and types (23) classifications.\n",
    "'''\n",
    "\n",
    "# Check program parameters\n",
    "if SCOPE not in SCOPES:\n",
    "    raise Exception(f'Please pick from available scopes: {SCOPES}. (Input: {SCOPE})')\n",
    "elif DATASET not in DATASETS:\n",
    "    raise Exception(f'Please pick from available datasets: {DATASETS}. (Input: {DATASET})')\n",
    "\n",
    "# Categories\n",
    "DOS_TYPES = ('back','land','neptune','pod','smurf','teardrop')\n",
    "U2R_TYPES = ('buffer_overflow','loadmodule','perl','rootkit')\n",
    "R2L_TYPES = ('ftp_write','guess_passwd','imap','multihop','phf','spy','warezclient','warezmaster')\n",
    "PROBE_TYPES = ('ipsweep','nmap','portsweep','satan')\n",
    "\n",
    "ALL_TYPES = ('back','land','neptune','pod','smurf','teardrop','buffer_overflow','loadmodule','perl',\n",
    "             'rootkit','ftp_write','guess_passwd','imap','multihop','phf','spy','warezclient','warezmaster',\n",
    "            'ipsweep','nmap','portsweep','satan')\n",
    "\n",
    "bin_attack_dict = dict(normal = 'normal')\n",
    "[bin_attack_dict.setdefault(each, 'suspicious') for each in ALL_TYPES]\n",
    "\n",
    "# For categorical conversion of outcome - dictionaries are fast\n",
    "attack_dict = dict(normal ='normal')\n",
    "[attack_dict.setdefault(each, 'dos') for each in DOS_TYPES]\n",
    "[attack_dict.setdefault(each, 'u2r') for each in U2R_TYPES]\n",
    "[attack_dict.setdefault(each, 'r2l') for each in R2L_TYPES]\n",
    "[attack_dict.setdefault(each, 'probe') for each in PROBE_TYPES]\n",
    "\n",
    "\n",
    "# For our methods to handle the correct number of classifications\n",
    "num_classifications = {'binary' : 2, 'categories' : 5, 'types' : 23}\n",
    "\n",
    "try:\n",
    "    N_CLASS = num_classifications[SCOPE]\n",
    "except KeyError as ke:\n",
    "    print('Scope chosen does not match available options (check spelling)')"
   ]
  },
  {
   "cell_type": "code",
   "execution_count": 37,
   "metadata": {},
   "outputs": [
    {
     "name": "stdout",
     "output_type": "stream",
     "text": [
      "Read 4898431 rows into dataframe.\n"
     ]
    }
   ],
   "source": [
    "# Choose Dataset and format DF as appropriate\n",
    "\n",
    "try:\n",
    "    if DATASET == 'kdd99':\n",
    "        path = get_file('kddcup.data.gz', origin='http://kdd.ics.uci.edu/databases/kddcup99/kddcup.data.gz')\n",
    "    elif DATASET == '10%kdd99':\n",
    "        path = get_file('kddcup.data_10_percent.gz', origin='http://kdd.ics.uci.edu/databases/kddcup99/kddcup.data_10_percent.gz')\n",
    "    elif DATASET == 'nslkdd':\n",
    "        path = './nslkdd/KDDTrain+.txt'\n",
    "    else:\n",
    "        raise Exception\n",
    "except:\n",
    "    print('Error downloading')\n",
    "    raise\n",
    "    \n",
    "df = pd.read_csv(path, header=None)\n",
    "print(\"Read {} rows into dataframe.\".format(len(df)))\n",
    "\n",
    "# Sample only 1% of the dataset\n",
    "#df = df.sample(frac=0.01, replace=False)\n",
    "\n",
    "# Drop NA's (rows with missing values)\n",
    "df.dropna(inplace=True,axis=1) \n",
    "\n",
    "columns = [\n",
    "    'duration',\n",
    "    'protocol_type',\n",
    "    'service',\n",
    "    'flag',\n",
    "    'src_bytes',\n",
    "    'dst_bytes',\n",
    "    'land',\n",
    "    'wrong_fragment',\n",
    "    'urgent',\n",
    "    'hot',\n",
    "    'num_failed_logins',\n",
    "    'logged_in',\n",
    "    'num_compromised',\n",
    "    'root_shell',\n",
    "    'su_attempted',\n",
    "    'num_root',\n",
    "    'num_file_creations',\n",
    "    'num_shells',\n",
    "    'num_access_files',\n",
    "    'num_outbound_cmds',\n",
    "    'is_host_login',\n",
    "    'is_guest_login',\n",
    "    'count',\n",
    "    'srv_count',\n",
    "    'serror_rate',\n",
    "    'srv_serror_rate',\n",
    "    'rerror_rate',\n",
    "    'srv_rerror_rate',\n",
    "    'same_srv_rate',\n",
    "    'diff_srv_rate',\n",
    "    'srv_diff_host_rate',\n",
    "    'dst_host_count',\n",
    "    'dst_host_srv_count',\n",
    "    'dst_host_same_srv_rate',\n",
    "    'dst_host_diff_srv_rate',\n",
    "    'dst_host_same_src_port_rate',\n",
    "    'dst_host_srv_diff_host_rate',\n",
    "    'dst_host_serror_rate',\n",
    "    'dst_host_srv_serror_rate',\n",
    "    'dst_host_rerror_rate',\n",
    "    'dst_host_srv_rerror_rate',\n",
    "    'outcome'\n",
    "]\n",
    "\n",
    "if path == './nslkdd/KDDTrain+.txt':\n",
    "    columns.append('difficulty_rating')\n",
    "    \n",
    "df.columns = columns\n"
   ]
  },
  {
   "cell_type": "code",
   "execution_count": 38,
   "metadata": {},
   "outputs": [],
   "source": [
    "# Encode a numeric column as zscores\n",
    "def encode_numeric_zscore(df, name, mean=None, sd=None):\n",
    "    if mean is None:\n",
    "        mean = df[name].mean()\n",
    "\n",
    "    if sd is None:\n",
    "        sd = df[name].std()\n",
    "\n",
    "    df[name] = (df[name] - mean) / sd\n",
    "    \n",
    "# Encode text values to dummy variables(i.e. [1,0,0],[0,1,0],[0,0,1] for red,green,blue)\n",
    "def encode_text_dummy(df, name):\n",
    "    dummies = pd.get_dummies(df[name])\n",
    "    for x in dummies.columns:\n",
    "        dummy_name = f\"{name}-{x}\"\n",
    "        df[dummy_name] = dummies[x]\n",
    "    df.drop(name, axis=1, inplace=True)\n",
    "\n",
    "# Binary Classification\n",
    "def set_bin_class(df):\n",
    "    for i, row in df.iterrows():\n",
    "        val = row['outcome'].split('.')[0]\n",
    "        df.at[i, 'outcome'] = bin_attack_dict[val]\n",
    "\n",
    "# Categorical Attack Classification\n",
    "def set_category_class(df):\n",
    "    for i, row in df.iterrows():\n",
    "        val = row['outcome'].split('.')[0]\n",
    "        df.at[i, 'outcome'] = attack_dict[val]\n",
    "    return    \n",
    "\n",
    "# Supports sampling\n",
    "def convert_to_numpy(df_trainer):\n",
    "    # Convert to numpy - Classification\n",
    "    x_columns = df_trainer.columns.drop(class_columns)\n",
    "    x = df_trainer[x_columns].values\n",
    "    dummies = pd.get_dummies(df_trainer['outcome']) # Classification\n",
    "\n",
    "    outcomes = dummies.columns\n",
    "    num_classes = len(outcomes)\n",
    "    y = dummies.values\n",
    "    return x, y, num_classes"
   ]
  },
  {
   "cell_type": "code",
   "execution_count": 39,
   "metadata": {},
   "outputs": [],
   "source": [
    "# Quantitative - numeric/continuous values\n",
    "to_zscore = ['duration', 'src_bytes', 'dst_bytes', 'wrong_fragment', 'urgent', \n",
    "            'hot', 'num_failed_logins', 'num_compromised', 'root_shell', \n",
    "            'su_attempted', 'num_root', 'num_file_creations', 'num_shells', \n",
    "            'num_access_files', 'num_outbound_cmds', 'count', 'srv_count', \n",
    "            'serror_rate', 'srv_serror_rate', 'rerror_rate', 'srv_rerror_rate', \n",
    "            'same_srv_rate', 'diff_srv_rate', 'srv_diff_host_rate', 'dst_host_count', \n",
    "            'dst_host_srv_count', 'dst_host_same_srv_rate', 'dst_host_diff_srv_rate', \n",
    "            'dst_host_same_src_port_rate', 'dst_host_srv_diff_host_rate', \n",
    "            'dst_host_serror_rate', 'dst_host_srv_serror_rate', 'dst_host_rerror_rate', \n",
    "            'dst_host_srv_rerror_rate']\n",
    "\n",
    "# Qualitative - nominal/binary features\n",
    "to_dummy = ['protocol_type',\n",
    "            'service',\n",
    "            'flag',\n",
    "            'land',\n",
    "            'logged_in',\n",
    "            'is_host_login',\n",
    "            'is_guest_login']\n",
    "\n",
    "# depending on the dataset we test, this handles additional classification columns\n",
    "class_columns = set(columns) - set(to_zscore) - set(to_dummy)\n",
    "class_columns = list(class_columns)"
   ]
  },
  {
   "cell_type": "code",
   "execution_count": 40,
   "metadata": {},
   "outputs": [],
   "source": [
    "# CHECK: display 5 rows & classification counts in dataset\n",
    "# print(df[0:5])\n",
    "# print(df['outcome'].nunique())\n",
    "# print(df.groupby('outcome')['outcome'].count())"
   ]
  },
  {
   "cell_type": "code",
   "execution_count": null,
   "metadata": {},
   "outputs": [],
   "source": [
    "# Transformations: Encode the feature vector\n",
    "for each in to_zscore: encode_numeric_zscore(df, each)\n",
    "for each in to_dummy: encode_text_dummy(df, each)\n",
    "    \n",
    "# Drop missing data\n",
    "df.dropna(inplace=True,axis=1)\n",
    "\n",
    "# Format outcome for appropriate classification\n",
    "if SCOPE == 'binary': set_bin_class(df)\n",
    "elif SCOPE == 'categories': set_category_class(df)\n",
    "elif SCOPE == 'types': pass\n",
    "\n",
    "# Numeric feature vector\n",
    "df_trainer = None\n",
    "\n",
    "# Sampling method to include all classifications of interest\n",
    "num_classes = 0\n",
    "while num_classes != N_CLASS: \n",
    "                                                    # do we still want this (comment)? \n",
    "    df_trainer = df.sample(frac=1.0, replace=False) # Uncomment this line to sample only 10% of the dataset\n",
    "    x, y, num_classes = convert_to_numpy(df_trainer)\n",
    "\n",
    "print(f'Performing {SCOPE.upper()} Classification')"
   ]
  },
  {
   "cell_type": "code",
   "execution_count": 27,
   "metadata": {},
   "outputs": [],
   "source": [
    "'''Create tests and training sets'''\n",
    "from sklearn.model_selection import train_test_split\n",
    "\n",
    "x_train, x_test, y_train, y_test = train_test_split(x,y,test_size=0.25)"
   ]
  },
  {
   "cell_type": "code",
   "execution_count": 28,
   "metadata": {},
   "outputs": [],
   "source": [
    "'''NEURAL NETWORK'''\n",
    "def baseline_model():\n",
    "    '''\n",
    "    'linear' - activation takes weights*input and outputs signal proportional to the input\n",
    "    'softmax' - normalized exponential activation (large input = much larger output)\n",
    "    'adam' - extension to stochastic gradient descent\n",
    "    '''\n",
    "    model = Sequential()\n",
    "    model.add(Dense(32, input_dim=x.shape[1], activation='relu'))\n",
    "    model.add(Dense(32, input_dim=x.shape[1], activation='relu'))\n",
    "    model.add(Dense(y.shape[1], activation='softmax'))\n",
    "    \n",
    "    model.compile(loss='categorical_crossentropy', optimizer='adam', metrics=['accuracy'])\n",
    "    return model\n",
    "\n",
    "estimator = KerasClassifier(build_fn=baseline_model, epochs=5, batch_size=50, verbose=0)"
   ]
  },
  {
   "cell_type": "code",
   "execution_count": 29,
   "metadata": {},
   "outputs": [
    {
     "name": "stdout",
     "output_type": "stream",
     "text": [
      "Train on 3673823 samples, validate on 1224608 samples\n",
      "Epoch 1/50\n",
      "3673823/3673823 [==============================] - 113s 31us/sample - loss: 0.0025 - accuracy: 0.9995 - val_loss: 0.0010 - val_accuracy: 0.9997\n",
      "Epoch 2/50\n",
      "3673823/3673823 [==============================] - 111s 30us/sample - loss: 0.0012 - accuracy: 0.9997 - val_loss: 9.4317e-04 - val_accuracy: 0.9998\n",
      "Epoch 3/50\n",
      "3673823/3673823 [==============================] - 112s 31us/sample - loss: 0.0019 - accuracy: 0.9998 - val_loss: 0.0010 - val_accuracy: 0.9998\n",
      "Epoch 4/50\n",
      "3673823/3673823 [==============================] - 111s 30us/sample - loss: 9.6949e-04 - accuracy: 0.9998 - val_loss: 0.0012 - val_accuracy: 0.9998\n",
      "Epoch 5/50\n",
      "3673823/3673823 [==============================] - 113s 31us/sample - loss: 0.0019 - accuracy: 0.9998 - val_loss: 0.0011 - val_accuracy: 0.9998\n",
      "Epoch 6/50\n",
      "3673823/3673823 [==============================] - 116s 32us/sample - loss: 0.0015 - accuracy: 0.9998 - val_loss: 0.0012 - val_accuracy: 0.9998\n",
      "Epoch 00006: early stopping\n"
     ]
    },
    {
     "data": {
      "text/plain": [
       "<tensorflow.python.keras.callbacks.History at 0x20c3277df98>"
      ]
     },
     "execution_count": 29,
     "metadata": {},
     "output_type": "execute_result"
    }
   ],
   "source": [
    "# Train NN\n",
    "from tensorflow.keras.callbacks import EarlyStopping\n",
    "\n",
    "monitor = EarlyStopping(monitor='val_loss', min_delta=1e-3, patience=5, verbose=1, mode='auto')\n",
    "estimator.fit(x_train,y_train,validation_data=(x_test,y_test),callbacks=[monitor],verbose=1,epochs=50)"
   ]
  },
  {
   "cell_type": "code",
   "execution_count": 30,
   "metadata": {},
   "outputs": [],
   "source": [
    "# Evaluate Success of NN\n",
    "import numpy as np\n",
    "from sklearn import metrics\n",
    "\n",
    "def validation_score(x, y):\n",
    "    y_eval = np.argmax(y, axis=1)\n",
    "    pred = estimator.predict(x)\n",
    "    score = metrics.accuracy_score(y_eval, pred)\n",
    "    print(\"Validation score: {}\".format(score))\n",
    "    return score"
   ]
  },
  {
   "cell_type": "code",
   "execution_count": 31,
   "metadata": {},
   "outputs": [
    {
     "name": "stdout",
     "output_type": "stream",
     "text": [
      "Validation score: 0.9998244336146751\n"
     ]
    },
    {
     "data": {
      "text/plain": [
       "0.9998244336146751"
      ]
     },
     "execution_count": 31,
     "metadata": {},
     "output_type": "execute_result"
    }
   ],
   "source": [
    "validation_score(x_test, y_test)"
   ]
  },
  {
   "cell_type": "code",
   "execution_count": 32,
   "metadata": {},
   "outputs": [
    {
     "name": "stdout",
     "output_type": "stream",
     "text": [
      "Validation score: 0.9998315787238812\n"
     ]
    },
    {
     "data": {
      "text/plain": [
       "0.9998315787238812"
      ]
     },
     "execution_count": 32,
     "metadata": {},
     "output_type": "execute_result"
    }
   ],
   "source": [
    "validation_score(x, y)"
   ]
  },
  {
   "cell_type": "code",
   "execution_count": null,
   "metadata": {},
   "outputs": [],
   "source": [
    "'''RANDOM FOREST'''\n",
    "\n",
    "#from sklearn.neural_network import MLPClassifier\n",
    "#mlp = MLPClassifier(hidden_layer_sizes=(64,64,),max_iter=50,verbose=True)\n",
    "#mlp.fit(x_train, y_train)\n",
    "\n",
    "from sklearn.ensemble import RandomForestClassifier\n",
    "rfc = RandomForestClassifier(n_estimators=1000, n_jobs=-1, verbose=1)\n",
    "rfc.fit(x_train, y_train)\n",
    "predictions = rfc.predict(x_test)"
   ]
  },
  {
   "cell_type": "code",
   "execution_count": null,
   "metadata": {},
   "outputs": [],
   "source": [
    "results = []\n",
    "for val in y_test:\n",
    "    results.append(val[0])"
   ]
  },
  {
   "cell_type": "code",
   "execution_count": null,
   "metadata": {},
   "outputs": [],
   "source": [
    "import warnings\n",
    "from sklearn.metrics import classification_report, confusion_matrix\n",
    "from sklearn.decomposition import PCA\n",
    "import matplotlib.pyplot as plt\n",
    "\n",
    "PC1 = 'principal component 1'\n",
    "PC2 = 'principal component 2'\n",
    "\n",
    "def PCA_method():\n",
    "    # CHECK \n",
    "    #predictions = mlp.predict(x_test)\n",
    "    #print(confusion_matrix(y_test, predictions))\n",
    "    #print(classification_report(y_test,predictions))\n",
    "    \n",
    "    pca = PCA(n_components = 2)\n",
    "    principalComponents = pca.fit_transform(x_test)\n",
    "    principalDf = pd.DataFrame(data = principalComponents\n",
    "                 , columns = [PC1, PC2])\n",
    "\n",
    "    '''\n",
    "    prepares true_normal_df for visualization; to compare against \n",
    "    the two groups generated by K-Means Clustering.\n",
    "    '''\n",
    "    true_normal_df = principalDf.copy()                                                     #copy PCA1, PCA2 columns from principalDf (original df) into new true_normal_df\n",
    "    true_normal_df['outcome'] = results                                                     #copy outcome column from original df to true_normal_df\n",
    "    true_normal_df = true_normal_df.drop(true_normal_df[true_normal_df.outcome != 1].index) #delete all rows from true_normal_df with outcome != 'normal'\n",
    "    true_normal_df.drop(['outcome'], axis = 1)                                              #drop outcome column from the true_normal_df, \n",
    "                                                                                            #leaves PCA1 & PCA2 cols that correspond to true normal rows (for plot)\n",
    "    # CHECK - every outcome in our table is normal\n",
    "    with warnings.catch_warnings():\n",
    "        warnings.filterwarnings(\"ignore\")\n",
    "        outcome_count = len(true_normal_df['outcome'])\n",
    "        normal_count = (true_normal_df.outcome == 'normal').sum()\n",
    "        print(outcome_count, normal_count == 0 or normal_count == outcome_count) \n",
    "    return principalDf, true_normal_df\n"
   ]
  },
  {
   "cell_type": "code",
   "execution_count": null,
   "metadata": {},
   "outputs": [],
   "source": [
    "if SCOPE == 'binary':\n",
    "    principalDf, true_normal_df = PCA_method()\n",
    "    \n",
    "    # Plot PCA\n",
    "    scatter = plt.scatter(principalDf[PC1], principalDf[PC2], c = results, cmap = 'viridis')\n",
    "    plt.scatter(true_normal_df[PC1], true_normal_df[PC2], color = 'g', alpha = 1)\n",
    "    plt.show()"
   ]
  },
  {
   "cell_type": "code",
   "execution_count": null,
   "metadata": {},
   "outputs": [],
   "source": []
  },
  {
   "cell_type": "code",
   "execution_count": null,
   "metadata": {},
   "outputs": [],
   "source": []
  }
 ],
 "metadata": {
  "kernelspec": {
   "display_name": "Python 3",
   "language": "python",
   "name": "python3"
  },
  "language_info": {
   "codemirror_mode": {
    "name": "ipython",
    "version": 3
   },
   "file_extension": ".py",
   "mimetype": "text/x-python",
   "name": "python",
   "nbconvert_exporter": "python",
   "pygments_lexer": "ipython3",
   "version": "3.7.3"
  }
 },
 "nbformat": 4,
 "nbformat_minor": 2
}
