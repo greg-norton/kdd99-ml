{
 "cells": [
  {
   "cell_type": "code",
   "execution_count": 1,
   "metadata": {
    "scrolled": true
   },
   "outputs": [],
   "source": [
    "import pandas as pd\n",
    "import tensorflow as tf\n",
    "import os\n",
    "import numpy as np\n",
    "from sklearn import metrics\n",
    "from scipy.stats import zscore\n",
    "from tensorflow.keras.utils import get_file\n",
    "from tensorflow.keras.models import Sequential\n",
    "from tensorflow.keras.layers import Dense\n",
    "from tensorflow.keras.wrappers.scikit_learn import KerasClassifier\n",
    "#from tensorflow.keras.utils import np_utils\n",
    "from sklearn.model_selection import cross_val_score\n",
    "from sklearn.model_selection import KFold\n",
    "from sklearn.preprocessing import LabelEncoder\n",
    "from sklearn.pipeline import Pipeline\n",
    "\n",
    "#tf.debugging.set_log_device_placement(True)"
   ]
  },
  {
   "cell_type": "code",
   "execution_count": 2,
   "metadata": {},
   "outputs": [],
   "source": [
    "'''\n",
    "PROGRAM SET UP: \n",
    "To switch between classifications: binary (2), categories (5), and types (23)\n",
    "\n",
    "(not fully implemented / not sure if necessary)\n",
    "'''\n",
    "\n",
    "# Change me for other classifications!\n",
    "# binary, categories, or types\n",
    "# --------------------------------------------------\n",
    "SCOPE = 'binary'\n",
    "# --------------------------------------------------\n",
    "\n",
    "\n",
    "DOS_TYPES = ('back','land','neptune','pod','smurf','teardrop')\n",
    "U2R_TYPES = ('buffer_overflow','loadmodule','perl','rootkit')\n",
    "R2L_TYPES = ('ftp_write','guess_passwd','imap','multihop','phf','spy','warezclient','warezmaster')\n",
    "PROBE_TYPES = ('ipsweep','nmap','portsweep','satan')\n",
    "\n",
    "# i promise this has a purpose\n",
    "attack_dict = dict(normal ='normal')\n",
    "[attack_dict.setdefault(each, 'dos') for each in DOS_TYPES]\n",
    "[attack_dict.setdefault(each, 'u2r') for each in U2R_TYPES]\n",
    "[attack_dict.setdefault(each, 'r2l') for each in R2L_TYPES]\n",
    "[attack_dict.setdefault(each, 'probe') for each in PROBE_TYPES]\n",
    "\n",
    "num_classifications = {'binary' : 2, 'categories' : 5, 'types' : 23}\n",
    "\n",
    "try:\n",
    "    N_CLASS = num_classifications[SCOPE]\n",
    "except KeyError as ke:\n",
    "    print('Scope chosen does not match available options (check spelling)')"
   ]
  },
  {
   "cell_type": "code",
   "execution_count": 3,
   "metadata": {},
   "outputs": [
    {
     "name": "stdout",
     "output_type": "stream",
     "text": [
      "Read 125973 rows into dataframe.\n"
     ]
    }
   ],
   "source": [
    "try:\n",
    "    #path = get_file('kddcup.data.gz', origin='http://kdd.ics.uci.edu/databases/kddcup99/kddcup.data.gz')\n",
    "    #path = get_file('kddcup.data_10_percent.gz', origin='http://kdd.ics.uci.edu/databases/kddcup99/kddcup.data_10_percent.gz')\n",
    "    path = './nslkdd/KDDTrain+.txt'\n",
    "except:\n",
    "    print('Error downloading')\n",
    "    raise\n",
    "    \n",
    "df = pd.read_csv(path, header=None)\n",
    "print(\"Read {} rows into dataframe.\".format(len(df)))\n",
    "\n",
    "# Sample only 1% of the dataset\n",
    "#df = df.sample(frac=0.01, replace=False)\n",
    "\n",
    "# Drop NA's (rows with missing values)\n",
    "df.dropna(inplace=True,axis=1) \n",
    "\n",
    "columns = [\n",
    "    'duration',\n",
    "    'protocol_type',\n",
    "    'service',\n",
    "    'flag',\n",
    "    'src_bytes',\n",
    "    'dst_bytes',\n",
    "    'land',\n",
    "    'wrong_fragment',\n",
    "    'urgent',\n",
    "    'hot',\n",
    "    'num_failed_logins',\n",
    "    'logged_in',\n",
    "    'num_compromised',\n",
    "    'root_shell',\n",
    "    'su_attempted',\n",
    "    'num_root',\n",
    "    'num_file_creations',\n",
    "    'num_shells',\n",
    "    'num_access_files',\n",
    "    'num_outbound_cmds',\n",
    "    'is_host_login',\n",
    "    'is_guest_login',\n",
    "    'count',\n",
    "    'srv_count',\n",
    "    'serror_rate',\n",
    "    'srv_serror_rate',\n",
    "    'rerror_rate',\n",
    "    'srv_rerror_rate',\n",
    "    'same_srv_rate',\n",
    "    'diff_srv_rate',\n",
    "    'srv_diff_host_rate',\n",
    "    'dst_host_count',\n",
    "    'dst_host_srv_count',\n",
    "    'dst_host_same_srv_rate',\n",
    "    'dst_host_diff_srv_rate',\n",
    "    'dst_host_same_src_port_rate',\n",
    "    'dst_host_srv_diff_host_rate',\n",
    "    'dst_host_serror_rate',\n",
    "    'dst_host_srv_serror_rate',\n",
    "    'dst_host_rerror_rate',\n",
    "    'dst_host_srv_rerror_rate',\n",
    "    'outcome'\n",
    "]\n",
    "\n",
    "if path == './nslkdd/KDDTrain+.txt':\n",
    "    columns.append('difficulty_rating')\n",
    "    \n",
    "df.columns = columns\n"
   ]
  },
  {
   "cell_type": "code",
   "execution_count": 4,
   "metadata": {},
   "outputs": [],
   "source": [
    "# Encode a numeric column as zscores\n",
    "def encode_numeric_zscore(df, name, mean=None, sd=None):\n",
    "    if mean is None:\n",
    "        mean = df[name].mean()\n",
    "\n",
    "    if sd is None:\n",
    "        sd = df[name].std()\n",
    "\n",
    "    df[name] = (df[name] - mean) / sd\n",
    "    \n",
    "# Encode text values to dummy variables(i.e. [1,0,0],[0,1,0],[0,0,1] for red,green,blue)\n",
    "def encode_text_dummy(df, name):\n",
    "    dummies = pd.get_dummies(df[name])\n",
    "    for x in dummies.columns:\n",
    "        dummy_name = f\"{name}-{x}\"\n",
    "        df[dummy_name] = dummies[x]\n",
    "    df.drop(name, axis=1, inplace=True)"
   ]
  },
  {
   "cell_type": "code",
   "execution_count": 5,
   "metadata": {},
   "outputs": [],
   "source": [
    "class_columns = ['difficulty_rating', 'outcome']\n",
    "\n",
    "# Quantitative - numeric/continuous values\n",
    "to_zscore = ['duration', 'src_bytes', 'dst_bytes', 'wrong_fragment', 'urgent', \n",
    "            'hot', 'num_failed_logins', 'num_compromised', 'root_shell', \n",
    "            'su_attempted', 'num_root', 'num_file_creations', 'num_shells', \n",
    "            'num_access_files', 'num_outbound_cmds', 'count', 'srv_count', \n",
    "            'serror_rate', 'srv_serror_rate', 'rerror_rate', 'srv_rerror_rate', \n",
    "            'same_srv_rate', 'diff_srv_rate', 'srv_diff_host_rate', 'dst_host_count', \n",
    "            'dst_host_srv_count', 'dst_host_same_srv_rate', 'dst_host_diff_srv_rate', \n",
    "            'dst_host_same_src_port_rate', 'dst_host_srv_diff_host_rate', \n",
    "            'dst_host_serror_rate', 'dst_host_srv_serror_rate', 'dst_host_rerror_rate', \n",
    "            'dst_host_srv_rerror_rate']\n",
    "\n",
    "# Qualitative - nominal/binary features\n",
    "to_dummy = ['protocol_type',\n",
    "            'service',\n",
    "            'flag',\n",
    "            'land',\n",
    "            'logged_in',\n",
    "            'is_host_login',\n",
    "            'is_guest_login']\n",
    "\n",
    "# Transformations: Encode the feature vector\n",
    "for each in to_zscore: encode_numeric_zscore(df, each)\n",
    "for each in to_dummy: encode_text_dummy(df, each)"
   ]
  },
  {
   "cell_type": "code",
   "execution_count": 6,
   "metadata": {},
   "outputs": [],
   "source": [
    "# CHECK: display 5 rows & classification counts in dataset\n",
    "# print(df[0:5])\n",
    "# print(df['outcome'].nunique())\n",
    "# print(df.groupby('outcome')['outcome'].count())"
   ]
  },
  {
   "cell_type": "code",
   "execution_count": 7,
   "metadata": {},
   "outputs": [
    {
     "name": "stdout",
     "output_type": "stream",
     "text": [
      "Performing binary Classification\n"
     ]
    }
   ],
   "source": [
    "def set_bin_class(df):\n",
    "    '''Binary Classification'''\n",
    "    for i, row in df.iterrows():\n",
    "        if row['outcome'].split('.')[0] != 'normal':\n",
    "            df.at[i, 'outcome'] = 1\n",
    "        else:\n",
    "            df.at[i, 'outcome'] = 0\n",
    "            \n",
    "def set_category_class(df):\n",
    "    '''For categorical attack classification'''        \n",
    "    for i, row in df.iterrows():\n",
    "        val = row['outcome'].split('.')[0]\n",
    "        df.at[i, 'outcome'] = attack_dict[val]\n",
    "    return    \n",
    "    \n",
    "def convert_to_numpy(df_trainer):\n",
    "    # Convert to numpy - Classification\n",
    "    x_columns = df_trainer.columns.drop(class_columns)\n",
    "    x = df_trainer[x_columns].values\n",
    "    dummies = pd.get_dummies(df_trainer['outcome']) # Classification\n",
    "\n",
    "    outcomes = dummies.columns\n",
    "    num_classes = len(outcomes)\n",
    "    y = dummies.values\n",
    "    \n",
    "    return x, y, num_classes\n",
    "\n",
    "df.dropna(inplace=True,axis=1)\n",
    "\n",
    "if SCOPE == 'binary': set_bin_class(df)\n",
    "elif SCOPE == 'categories': set_category_class(df)\n",
    "elif SCOPE == 'types': pass\n",
    "\n",
    "# This is the numeric feature vector, as it goes to the neural net\n",
    "df_trainer = None\n",
    "\n",
    "# Sampling method to include all classifications of interest\n",
    "num_classes = 0\n",
    "while num_classes != N_CLASS: \n",
    "                                                    # do we still want this? \n",
    "    df_trainer = df.sample(frac=1.0, replace=False) # Uncomment this line to sample only 10% of the dataset\n",
    "    x, y, num_classes = convert_to_numpy(df_trainer)\n",
    "\n",
    "print(f'Performing {SCOPE} Classification')"
   ]
  },
  {
   "cell_type": "code",
   "execution_count": 8,
   "metadata": {},
   "outputs": [],
   "source": [
    "'''Create tests and training sets'''\n",
    "from sklearn.model_selection import train_test_split\n",
    "\n",
    "x_train, x_test, y_train, y_test = train_test_split(x,y,test_size=0.25)"
   ]
  },
  {
   "cell_type": "code",
   "execution_count": 9,
   "metadata": {},
   "outputs": [],
   "source": [
    "'''NEURAL NETWORK'''\n",
    "\n",
    "def baseline_model():\n",
    "    '''\n",
    "    'linear' - activation takes weights*input and outputs signal proportional to the input\n",
    "    'softmax' - normalized exponential activation (large input = much larger output)\n",
    "    'adam' - extension to stochastic gradient descent\n",
    "    '''\n",
    "    model = Sequential()\n",
    "    model.add(Dense(32, input_dim=x.shape[1], activation='linear'))\n",
    "    model.add(Dense(32, input_dim=x.shape[1], activation='linear'))\n",
    "    model.add(Dense(y.shape[1], activation='softmax'))\n",
    "    \n",
    "    model.compile(loss='categorical_crossentropy', optimizer='adam', metrics=['accuracy'])\n",
    "    return model\n",
    "\n",
    "estimator = KerasClassifier(build_fn=baseline_model, epochs=5, batch_size=50, verbose=0)"
   ]
  },
  {
   "cell_type": "code",
   "execution_count": 10,
   "metadata": {},
   "outputs": [
    {
     "name": "stdout",
     "output_type": "stream",
     "text": [
      "Train on 94479 samples, validate on 31494 samples\n",
      "Epoch 1/50\n",
      "94479/94479 - 9s - loss: 0.0948 - accuracy: 0.9687 - val_loss: 0.0806 - val_accuracy: 0.9731\n",
      "Epoch 2/50\n",
      "94479/94479 - 8s - loss: 0.0801 - accuracy: 0.9717 - val_loss: 0.0767 - val_accuracy: 0.9737\n",
      "Epoch 3/50\n",
      "94479/94479 - 9s - loss: 0.0767 - accuracy: 0.9724 - val_loss: 0.0781 - val_accuracy: 0.9727\n",
      "Epoch 4/50\n",
      "94479/94479 - 11s - loss: 0.0773 - accuracy: 0.9727 - val_loss: 0.0746 - val_accuracy: 0.9724\n",
      "Epoch 5/50\n",
      "94479/94479 - 7s - loss: 0.0752 - accuracy: 0.9724 - val_loss: 0.0736 - val_accuracy: 0.9745\n",
      "Epoch 6/50\n",
      "94479/94479 - 8s - loss: 0.0753 - accuracy: 0.9723 - val_loss: 0.0731 - val_accuracy: 0.9754\n",
      "Epoch 7/50\n",
      "94479/94479 - 10s - loss: 0.0745 - accuracy: 0.9724 - val_loss: 0.0731 - val_accuracy: 0.9741\n",
      "Epoch 8/50\n",
      "94479/94479 - 8s - loss: 0.0752 - accuracy: 0.9726 - val_loss: 0.0752 - val_accuracy: 0.9737\n",
      "Epoch 9/50\n",
      "94479/94479 - 6s - loss: 0.0733 - accuracy: 0.9727 - val_loss: 0.0751 - val_accuracy: 0.9746\n",
      "Epoch 10/50\n",
      "94479/94479 - 6s - loss: 0.0739 - accuracy: 0.9729 - val_loss: 0.0747 - val_accuracy: 0.9734\n",
      "Epoch 11/50\n",
      "94479/94479 - 7s - loss: 0.0735 - accuracy: 0.9728 - val_loss: 0.0738 - val_accuracy: 0.9732\n",
      "Epoch 00011: early stopping\n"
     ]
    },
    {
     "data": {
      "text/plain": [
       "<tensorflow.python.keras.callbacks.History at 0x1ae3635e588>"
      ]
     },
     "execution_count": 10,
     "metadata": {},
     "output_type": "execute_result"
    }
   ],
   "source": [
    "'''Train NN'''\n",
    "from tensorflow.keras.callbacks import EarlyStopping\n",
    "\n",
    "monitor = EarlyStopping(monitor='val_loss', min_delta=1e-3, patience=5, verbose=1, mode='auto')\n",
    "estimator.fit(x_train,y_train,validation_data=(x_test,y_test),callbacks=[monitor],verbose=2,epochs=50)"
   ]
  },
  {
   "cell_type": "code",
   "execution_count": 11,
   "metadata": {},
   "outputs": [],
   "source": [
    "import numpy as np\n",
    "from sklearn import metrics\n",
    "\n",
    "def validation_score(x, y):\n",
    "    y_eval = np.argmax(y, axis=1)\n",
    "    pred = estimator.predict(x)\n",
    "    score = metrics.accuracy_score(y_eval, pred)\n",
    "    print(\"Validation score: {}\".format(score))\n",
    "    return"
   ]
  },
  {
   "cell_type": "code",
   "execution_count": 12,
   "metadata": {},
   "outputs": [
    {
     "name": "stdout",
     "output_type": "stream",
     "text": [
      "Validation score: 0.9731694926017654\n"
     ]
    }
   ],
   "source": [
    "validation_score(x_test, y_test)"
   ]
  },
  {
   "cell_type": "code",
   "execution_count": 13,
   "metadata": {},
   "outputs": [
    {
     "name": "stdout",
     "output_type": "stream",
     "text": [
      "Validation score: 0.9725496733427004\n"
     ]
    }
   ],
   "source": [
    "validation_score(x, y)"
   ]
  },
  {
   "cell_type": "code",
   "execution_count": 14,
   "metadata": {},
   "outputs": [
    {
     "name": "stderr",
     "output_type": "stream",
     "text": [
      "[Parallel(n_jobs=-1)]: Using backend ThreadingBackend with 8 concurrent workers.\n",
      "[Parallel(n_jobs=-1)]: Done  34 tasks      | elapsed:    3.0s\n",
      "[Parallel(n_jobs=-1)]: Done 184 tasks      | elapsed:   15.0s\n",
      "[Parallel(n_jobs=-1)]: Done 434 tasks      | elapsed:   36.1s\n",
      "[Parallel(n_jobs=-1)]: Done 784 tasks      | elapsed:  1.1min\n",
      "[Parallel(n_jobs=-1)]: Done 1000 out of 1000 | elapsed:  1.4min finished\n",
      "[Parallel(n_jobs=8)]: Using backend ThreadingBackend with 8 concurrent workers.\n",
      "[Parallel(n_jobs=8)]: Done  34 tasks      | elapsed:    0.0s\n",
      "[Parallel(n_jobs=8)]: Done 184 tasks      | elapsed:    0.4s\n",
      "[Parallel(n_jobs=8)]: Done 434 tasks      | elapsed:    0.9s\n",
      "[Parallel(n_jobs=8)]: Done 784 tasks      | elapsed:    1.6s\n",
      "[Parallel(n_jobs=8)]: Done 1000 out of 1000 | elapsed:    2.1s finished\n"
     ]
    }
   ],
   "source": [
    "'''RANDOM FOREST'''\n",
    "\n",
    "#from sklearn.neural_network import MLPClassifier\n",
    "#mlp = MLPClassifier(hidden_layer_sizes=(64,64,),max_iter=50,verbose=True)\n",
    "#mlp.fit(x_train, y_train)\n",
    "\n",
    "from sklearn.ensemble import RandomForestClassifier\n",
    "rfc = RandomForestClassifier(n_estimators=1000, n_jobs=-1, verbose=1)\n",
    "rfc.fit(x_train, y_train)\n",
    "predictions = rfc.predict(x_test)"
   ]
  },
  {
   "cell_type": "code",
   "execution_count": 15,
   "metadata": {},
   "outputs": [],
   "source": [
    "results = []\n",
    "for val in y_test:\n",
    "    results.append(val[0])"
   ]
  },
  {
   "cell_type": "code",
   "execution_count": 20,
   "metadata": {},
   "outputs": [],
   "source": [
    "import warnings\n",
    "from sklearn.metrics import classification_report, confusion_matrix\n",
    "from sklearn.decomposition import PCA\n",
    "import matplotlib.pyplot as plt\n",
    "\n",
    "PC1 = 'principal component 1'\n",
    "PC2 = 'principal component 2'\n",
    "\n",
    "def PCA_method():\n",
    "    '''\n",
    "    PRINCIPAL COMPONENT ANALYSIS\n",
    "    ----------------------------\n",
    "    (IDEA) for 'categories'\n",
    "        since PCA sucks at nonbinary classing- how about:\n",
    "            normal vs dos\n",
    "            normal vs ur2\n",
    "            normal vs r2l\n",
    "            normal vs probe\n",
    "        we end up with 4 graphs\n",
    "\n",
    "        this should (kw: should) be easy using the set_bin_class() on a dataframe pulling from just those categories,\n",
    "        i.e. \n",
    "                for_PCA = set_bin_class(df['dos'] + df['normal'])\n",
    "\n",
    "    If yes let's tack this down as later goal\n",
    "    I'm also perfectly happy leaving PCA for just binary lol\n",
    "    -jp\n",
    "    '''\n",
    "    # CHECK \n",
    "    #predictions = mlp.predict(x_test)\n",
    "    #print(confusion_matrix(y_test, predictions))\n",
    "    #print(classification_report(y_test,predictions))\n",
    "    pca = PCA(n_components = 2)\n",
    "    principalComponents = pca.fit_transform(x_test)\n",
    "    principalDf = pd.DataFrame(data = principalComponents\n",
    "                 , columns = [PC1, PC2])\n",
    "\n",
    "    '''\n",
    "    prepares true_normal_df for visualization; to compare against \n",
    "    the two groups generated by K-Means Clustering.\n",
    "    '''\n",
    "    true_normal_df = principalDf.copy()                                                     #copy PCA1, PCA2 columns from principalDf (original df) into new true_normal_df\n",
    "    true_normal_df['outcome'] = results                                                     #copy outcome column from original df to true_normal_df\n",
    "    true_normal_df = true_normal_df.drop(true_normal_df[true_normal_df.outcome != 1].index) #delete all rows from true_normal_df with outcome != 'normal'\n",
    "    true_normal_df.drop(['outcome'], axis = 1)                                              #drop outcome column from the true_normal_df, \n",
    "                                                                                            #leaves PCA1 & PCA2 cols that correspond to true normal rows (for plot)\n",
    "    # CHECK - every outcome in our table is normal\n",
    "    with warnings.catch_warnings():\n",
    "        warnings.filterwarnings(\"ignore\")\n",
    "        outcome_count = len(true_normal_df['outcome'])\n",
    "        normal_count = (true_normal_df.outcome == 'normal').sum()\n",
    "        print(outcome_count, normal_count == 0 or normal_count == outcome_count) \n",
    "    return principalDf, true_normal_df\n"
   ]
  },
  {
   "cell_type": "code",
   "execution_count": 21,
   "metadata": {},
   "outputs": [
    {
     "name": "stdout",
     "output_type": "stream",
     "text": [
      "16668 True\n"
     ]
    },
    {
     "data": {
      "image/png": "[encoded data removed]",
      "text/plain": [
       "<Figure size 432x288 with 1 Axes>"
      ]
     },
     "metadata": {
      "needs_background": "light"
     },
     "output_type": "display_data"
    }
   ],
   "source": [
    "if SCOPE == 'binary':\n",
    "    principalDf, true_normal_df = PCA_method()\n",
    "    \n",
    "    # Plot PCA\n",
    "    scatter = plt.scatter(principalDf[PC1], principalDf[PC2], c = results, cmap = 'viridis')\n",
    "    plt.scatter(true_normal_df[PC1], true_normal_df[PC2], color = 'g', alpha = 1)\n",
    "    plt.show()"
   ]
  },
  {
   "cell_type": "code",
   "execution_count": null,
   "metadata": {},
   "outputs": [],
   "source": []
  },
  {
   "cell_type": "code",
   "execution_count": null,
   "metadata": {},
   "outputs": [],
   "source": []
  }
 ],
 "metadata": {
  "kernelspec": {
   "display_name": "Python 3",
   "language": "python",
   "name": "python3"
  },
  "language_info": {
   "codemirror_mode": {
    "name": "ipython",
    "version": 3
   },
   "file_extension": ".py",
   "mimetype": "text/x-python",
   "name": "python",
   "nbconvert_exporter": "python",
   "pygments_lexer": "ipython3",
   "version": "3.7.5"
  }
 },
 "nbformat": 4,
 "nbformat_minor": 2
}
